{
 "cells": [
  {
   "cell_type": "code",
   "execution_count": 1,
   "id": "af28458f-113c-4d17-939c-b29e4807c348",
   "metadata": {},
   "outputs": [
    {
     "name": "stdout",
     "output_type": "stream",
     "text": [
      "Installed kernelspec main-venv in /home/roman/.local/share/jupyter/kernels/main-venv\n"
     ]
    }
   ],
   "source": [
    "! python3 -m ipykernel install --user --name=main-venv"
   ]
  },
  {
   "cell_type": "code",
   "execution_count": 2,
   "id": "b2fd55aa-452d-4be3-9b57-154bab83b6c2",
   "metadata": {},
   "outputs": [],
   "source": [
    "import os\n",
    "\n",
    "import json\n",
    "\n",
    "from tqdm import tqdm\n",
    "\n",
    "import pandas as pd\n",
    "import numpy as np\n",
    "\n",
    "from pydantic import BaseModel, Field\n",
    "\n",
    "from typing import List\n",
    "\n",
    "from langchain_core.messages import SystemMessage, AIMessage, HumanMessage\n",
    "from langchain_core.exceptions import OutputParserException\n",
    "\n",
    "from langchain_gigachat.chat_models import GigaChat\n",
    "\n",
    "from parser.static_parsers import build_kupus_parser\n",
    "from parser.static_parsers import build_hranidengi_parser\n",
    "from parser.static_parsers import build_findozor_parser\n",
    "from parser.static_parsers import build_finforum_parser"
   ]
  },
  {
   "cell_type": "code",
   "execution_count": 3,
   "id": "39f60387-172a-465b-95c3-efa5185fa05d",
   "metadata": {},
   "outputs": [],
   "source": [
    "DATA_DIR = \"data\""
   ]
  },
  {
   "cell_type": "markdown",
   "id": "a0c48446-4575-4cea-be4e-842d7d7e9bb8",
   "metadata": {},
   "source": [
    "# ✅Build Giga based solution"
   ]
  },
  {
   "cell_type": "code",
   "execution_count": 4,
   "id": "d44389aa-cde2-4400-8f66-5a78926de358",
   "metadata": {},
   "outputs": [],
   "source": [
    "class GigaOutput(BaseModel):\n",
    "\n",
    "    topic: str = Field(description='''\n",
    "        Описание темы на форуме.\n",
    "    ''')\n",
    "    menace_status: str = Field(description='''\n",
    "        Ответ от Гигачата на вопрос, является ли данная\n",
    "        тема на форуме потенциально мошеннической.\n",
    "    '''),\n",
    "    comment: str = Field(description='''\n",
    "        Небольшой комментарий от Гигачата,\n",
    "        почему он посчитал тему потенциально мошеннической.\n",
    "    ''')\n",
    "\n",
    "class GigaMapper:\n",
    "\n",
    "    def __init__(self, token: str, prompt: str, model: str = 'GigaChat-2'):\n",
    "\n",
    "        self.model = GigaChat(\n",
    "            credentials=token,\n",
    "            verify_ssl_certs=False,\n",
    "            model=model\n",
    "        ).with_structured_output(GigaOutput, method=\"json_mode\")\n",
    "\n",
    "        self.messages = [\n",
    "            SystemMessage(content=prompt)\n",
    "        ]\n",
    "\n",
    "    def inference(self, topics: List[str]):\n",
    "\n",
    "        res = []\n",
    "        \n",
    "        for topic in tqdm(topics):\n",
    "\n",
    "            try:\n",
    "                answer = self.model.invoke(self.messages + [HumanMessage(topic)])\n",
    "            except OutputParserException:\n",
    "                answer = {'topic': topic, 'menace_status': 'да', 'comment': 'чувствительная тема'}\n",
    "                \n",
    "            res.append(dict(answer))\n",
    "        \n",
    "        return res"
   ]
  },
  {
   "cell_type": "code",
   "execution_count": 5,
   "id": "3fadbc2f-4cc0-4e24-8395-bfc176523e96",
   "metadata": {},
   "outputs": [],
   "source": [
    "with open('gc-token.txt', 'r') as file:\n",
    "    TOKEN = file.read()\n",
    "\n",
    "system_prompt = '''\n",
    "    Ты - помошник по борьбе с онлайн мошенничеством в банке.\n",
    "    Тебе дают заголовок темы на одном из онлайн банковских форумов.\n",
    "    Твоя задача - определить, является ли тема потенциально мошеннической - \n",
    "    если да, ответь \"да\", иначе - \"нет\".\n",
    "    Также дай небольшой комментарий, почему ты так решил.\n",
    "\n",
    "    Проанализируй тему и верни ответ в формате JSON со структурой:\n",
    "        {\n",
    "          \"topic\": \"оригинальное название темы\"\n",
    "          \"menace_status\": \"да/нет\",\n",
    "          \"comment\": \"твой короткомментарий\"\n",
    "        }\n",
    "\n",
    "    Запрещено:\n",
    "        - Добавлять посторонний текст\n",
    "        - Менять структуру JSON\n",
    "'''\n",
    "\n",
    "giga = GigaMapper(TOKEN, system_prompt)"
   ]
  },
  {
   "cell_type": "markdown",
   "id": "3b23d598-02e6-44c3-9996-335f3cc5a00a",
   "metadata": {},
   "source": [
    "# ✅Parse and map Kupus.ru topics"
   ]
  },
  {
   "cell_type": "markdown",
   "id": "208cf3d1-0320-420f-9cdc-ecbb944a1792",
   "metadata": {},
   "source": [
    "## Parse Kupus.ru"
   ]
  },
  {
   "cell_type": "code",
   "execution_count": 5,
   "id": "ac1d3b56-c8be-41ce-8196-b291901c9ec6",
   "metadata": {},
   "outputs": [],
   "source": [
    "kupus_parser = build_kupus_parser()\n",
    "kupus_topics = kupus_parser.parse_topics(\n",
    "    \"https://kupus.ru/forum/17-kredity/\"\n",
    ")"
   ]
  },
  {
   "cell_type": "markdown",
   "id": "6b31aaa5-076c-474c-b1a1-3af618b37930",
   "metadata": {},
   "source": [
    "## Giga inference"
   ]
  },
  {
   "cell_type": "code",
   "execution_count": 6,
   "id": "fce686b2-dc46-4ab2-9d47-2c6b8a5c0367",
   "metadata": {},
   "outputs": [
    {
     "name": "stderr",
     "output_type": "stream",
     "text": [
      "100%|███████████████████████████████████████████| 20/20 [00:10<00:00,  1.92it/s]\n"
     ]
    }
   ],
   "source": [
    "kupus_topics_df = pd.DataFrame(giga.inference(kupus_topics.keys()))"
   ]
  },
  {
   "cell_type": "code",
   "execution_count": 10,
   "id": "79338f00-6a92-4c21-ad40-b0ea1293ae22",
   "metadata": {},
   "outputs": [],
   "source": [
    "kupus_topics_df.to_csv(os.path.join(DATA_DIR, 'kupus_mapping_credits.csv'))"
   ]
  },
  {
   "cell_type": "markdown",
   "id": "c123e13a-5137-4cf6-b5ef-8f51ead90fc7",
   "metadata": {},
   "source": [
    "# ✅Parse and map Hranidengi.com topics"
   ]
  },
  {
   "cell_type": "markdown",
   "id": "43e5d0da-145e-4a69-a068-ed6afd89aba0",
   "metadata": {},
   "source": [
    "## Parse Hranidengi.com"
   ]
  },
  {
   "cell_type": "code",
   "execution_count": 6,
   "id": "8da4d0b7-dc13-4cc3-b2d7-00c0b4049357",
   "metadata": {},
   "outputs": [],
   "source": [
    "hranidengi_parser = build_hranidengi_parser()\n",
    "hranidengi_topics = hranidengi_parser.parse_topics(\n",
    "    \"https://hranidengi.com/forums/kreditnaja-istorija/\"\n",
    ")"
   ]
  },
  {
   "cell_type": "markdown",
   "id": "20d4cf80-669c-496f-bfe9-1d0b99003e99",
   "metadata": {},
   "source": [
    "## Giga inference"
   ]
  },
  {
   "cell_type": "code",
   "execution_count": 7,
   "id": "cbbd542d-787f-4729-9f5a-d65abec86110",
   "metadata": {},
   "outputs": [
    {
     "name": "stderr",
     "output_type": "stream",
     "text": [
      " 75%|█████████████████████████████████▊           | 6/8 [00:03<00:01,  1.93it/s]Giga generation stopped with reason: blacklist\n",
      "100%|█████████████████████████████████████████████| 8/8 [00:03<00:00,  2.10it/s]\n"
     ]
    }
   ],
   "source": [
    "hranidengi_topics_df = pd.DataFrame(giga.inference(hranidengi_topics.keys()))"
   ]
  },
  {
   "cell_type": "code",
   "execution_count": 9,
   "id": "933c9223-ee82-4374-ae8f-5fccb95b99b6",
   "metadata": {},
   "outputs": [],
   "source": [
    "hranidengi_topics_df.to_csv(os.path.join(DATA_DIR, 'hranidengi_mapping_credit_story.csv'))"
   ]
  },
  {
   "cell_type": "markdown",
   "id": "f09be501-1eed-4a01-92ed-45e3c520a376",
   "metadata": {},
   "source": [
    "# ✅Parse and map Findozor.net topics"
   ]
  },
  {
   "cell_type": "markdown",
   "id": "42ea77fb-9339-4963-b66a-7de3fe5e65d6",
   "metadata": {},
   "source": [
    "## Parse Findozor.net"
   ]
  },
  {
   "cell_type": "code",
   "execution_count": 6,
   "id": "c1736c89-8bd9-4fdf-83dd-c9ce5f0ccab8",
   "metadata": {},
   "outputs": [],
   "source": [
    "findozor_parser = build_findozor_parser()\n",
    "findozor_topics = findozor_parser.parse_topics(\n",
    "    \"https://findozor.net/forum/forums/banki2/\",\n",
    "    deep=5\n",
    ")"
   ]
  },
  {
   "cell_type": "markdown",
   "id": "58916290-10b5-4734-ad16-8169cde3bb2c",
   "metadata": {},
   "source": [
    "## Giga inference"
   ]
  },
  {
   "cell_type": "code",
   "execution_count": 7,
   "id": "a3a475ae-d965-4f1f-9dad-a37329900d2f",
   "metadata": {},
   "outputs": [
    {
     "name": "stderr",
     "output_type": "stream",
     "text": [
      "100%|███████████████████████████████████████████| 53/53 [00:27<00:00,  1.96it/s]\n"
     ]
    }
   ],
   "source": [
    "findozor_topics_df = pd.DataFrame(giga.inference(findozor_topics.keys()))"
   ]
  },
  {
   "cell_type": "code",
   "execution_count": 9,
   "id": "86f9f5ca-8d0c-4496-adfd-608121596bab",
   "metadata": {},
   "outputs": [],
   "source": [
    "findozor_topics_df.to_csv(os.path.join(DATA_DIR, 'findozor_mapping_credit_story.csv'))"
   ]
  },
  {
   "cell_type": "markdown",
   "id": "3340e5c6-df3c-43af-99b2-266cd3b5dd76",
   "metadata": {},
   "source": [
    "# ✅Parse and map Findozor.net topics"
   ]
  },
  {
   "cell_type": "markdown",
   "id": "5b0cae5f-a647-4bb8-a1de-458c205af505",
   "metadata": {},
   "source": [
    "## Parse Findozor.net"
   ]
  },
  {
   "cell_type": "code",
   "execution_count": 6,
   "id": "96b83db6-07b3-41ab-8de9-5d0b30f9d758",
   "metadata": {},
   "outputs": [],
   "source": [
    "findozor_parser = build_findozor_parser()\n",
    "findozor_topics = findozor_parser.parse_topics(\n",
    "    \"https://findozor.net/forum/forums/banki2/\",\n",
    "    deep=5\n",
    ")"
   ]
  },
  {
   "cell_type": "markdown",
   "id": "b31af887-949f-4d07-a837-b8d893c44ddf",
   "metadata": {},
   "source": [
    "## Giga inference"
   ]
  },
  {
   "cell_type": "code",
   "execution_count": 7,
   "id": "ce8bad12-76fc-4ad4-9942-29b4e2805666",
   "metadata": {},
   "outputs": [
    {
     "name": "stderr",
     "output_type": "stream",
     "text": [
      "100%|███████████████████████████████████████████| 53/53 [00:27<00:00,  1.96it/s]\n"
     ]
    }
   ],
   "source": [
    "findozor_topics_df = pd.DataFrame(giga.inference(findozor_topics.keys()))"
   ]
  },
  {
   "cell_type": "code",
   "execution_count": 9,
   "id": "e8f3923f-999e-4e62-b2c1-9261e9dab571",
   "metadata": {},
   "outputs": [],
   "source": [
    "findozor_topics_df.to_csv(os.path.join(DATA_DIR, 'findozor_mapping_credit_story.csv'))"
   ]
  },
  {
   "cell_type": "markdown",
   "id": "a083b06e-fcb3-4d4b-a125-17da777c4a3a",
   "metadata": {},
   "source": [
    "# ✅Parse and map Finforum.ru topics"
   ]
  },
  {
   "cell_type": "markdown",
   "id": "0b2db877-749a-4529-a591-830711692292",
   "metadata": {},
   "source": [
    "## Parse Finforum.ru"
   ]
  },
  {
   "cell_type": "code",
   "execution_count": 6,
   "id": "c6fc79c6-fad1-4af5-92f5-d06a31866c5b",
   "metadata": {},
   "outputs": [],
   "source": [
    "finforum_parser = build_finforum_parser()\n",
    "finforum_topics = finforum_parser.parse_topics(\n",
    "    \"https://finforums.ru/forums/kreditnyye-istorii.46/\"\n",
    ")"
   ]
  },
  {
   "cell_type": "markdown",
   "id": "1867db0c-bd94-4dd7-a927-55f8301a1558",
   "metadata": {},
   "source": [
    "## Giga inference"
   ]
  },
  {
   "cell_type": "code",
   "execution_count": 8,
   "id": "57eb6c2f-5bc0-499c-9133-77fb5f4ae4ef",
   "metadata": {},
   "outputs": [
    {
     "name": "stderr",
     "output_type": "stream",
     "text": [
      "100%|█████████████████████████████████████████████| 6/6 [00:03<00:00,  1.81it/s]\n"
     ]
    }
   ],
   "source": [
    "finforum_topics_df = pd.DataFrame(giga.inference(finforum_topics.keys()))"
   ]
  },
  {
   "cell_type": "code",
   "execution_count": 9,
   "id": "5d720ddc-eadf-43c2-ab5c-ec39b43d12dd",
   "metadata": {},
   "outputs": [],
   "source": [
    "finforum_topics_df.to_csv(os.path.join(DATA_DIR, 'finforum_mapping_credit_story.csv'))"
   ]
  }
 ],
 "metadata": {
  "kernelspec": {
   "display_name": "main-venv",
   "language": "python",
   "name": "main-venv"
  },
  "language_info": {
   "codemirror_mode": {
    "name": "ipython",
    "version": 3
   },
   "file_extension": ".py",
   "mimetype": "text/x-python",
   "name": "python",
   "nbconvert_exporter": "python",
   "pygments_lexer": "ipython3",
   "version": "3.10.12"
  }
 },
 "nbformat": 4,
 "nbformat_minor": 5
}
