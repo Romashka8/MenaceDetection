{
 "cells": [
  {
   "cell_type": "code",
   "execution_count": 1,
   "id": "cd4af421-dca5-4b6b-9a06-e8e871d66cb5",
   "metadata": {},
   "outputs": [
    {
     "name": "stdout",
     "output_type": "stream",
     "text": [
      "Installed kernelspec main-venv in /home/roman/.local/share/jupyter/kernels/main-venv\n"
     ]
    }
   ],
   "source": [
    "! python3 -m ipykernel install --user --name=main-venv"
   ]
  },
  {
   "cell_type": "code",
   "execution_count": 2,
   "id": "58ca1d64-fa9d-42a4-812b-c64147327a34",
   "metadata": {},
   "outputs": [],
   "source": [
    "import os\n",
    "\n",
    "import json\n",
    "\n",
    "from tqdm import tqdm\n",
    "\n",
    "import pandas as pd\n",
    "import numpy as np\n",
    "\n",
    "from pydantic import BaseModel, Field\n",
    "\n",
    "from typing import List\n",
    "\n",
    "from langchain_core.messages import SystemMessage, AIMessage, HumanMessage\n",
    "from langchain_core.exceptions import OutputParserException\n",
    "\n",
    "from langchain_gigachat.chat_models import GigaChat\n",
    "\n",
    "from parser.static_parsers import build_hranidengi_parser\n",
    "from parser.static_parsers import build_findozor_parser"
   ]
  },
  {
   "cell_type": "code",
   "execution_count": 3,
   "id": "17e2f7c3-28be-4116-b5a9-10d82d7dd7a8",
   "metadata": {},
   "outputs": [],
   "source": [
    "DATA_DIR = \"data\""
   ]
  },
  {
   "cell_type": "markdown",
   "id": "90fad222-e9c6-49d8-a719-e91c22904af0",
   "metadata": {},
   "source": [
    "# ✅Build Giga solution"
   ]
  },
  {
   "cell_type": "code",
   "execution_count": 4,
   "id": "75b4000a-4a3e-41fa-a5de-81f615b678b0",
   "metadata": {},
   "outputs": [],
   "source": [
    "class GigaOutput(BaseModel):\n",
    "\n",
    "    topic: str = Field(description='''\n",
    "        Название темы на форуме.\n",
    "    ''')\n",
    "    menace_status: str = Field(description='''\n",
    "        Ответ от Гигачата на вопрос, обсуждается ли\n",
    "        в этой теме нарушение закона с целью личной выгоды.\n",
    "    '''),\n",
    "    comment: str = Field(description='''\n",
    "        Небольшой комментарий от Гигачата,\n",
    "        почему он посчитал обсуждение в теме мошенническими.\n",
    "    ''')\n",
    "    highlights: str = Field(description='''\n",
    "        Главные, по мнению гигачата, слова. \n",
    "    ''')\n",
    "\n",
    "class GigaMenace:\n",
    "\n",
    "    def __init__(self, token: str, prompt: str, model: str = 'GigaChat-2'):\n",
    "\n",
    "        self.model = GigaChat(\n",
    "            credentials=token,\n",
    "            verify_ssl_certs=False,\n",
    "            model=model\n",
    "        ).with_structured_output(GigaOutput, method='json_mode')\n",
    "\n",
    "        self.prompt = prompt\n",
    "        self.messages = []\n",
    "\n",
    "    def _init_chat(self, messages: List[str]):\n",
    "        \n",
    "        self.messages = [\n",
    "            SystemMessage(content=self.prompt)\n",
    "        ]\n",
    "\n",
    "        for message in messages:\n",
    "            self.messages.append(\n",
    "                HumanMessage(content=str(message))\n",
    "            )\n",
    "    \n",
    "    def inference(self, topics: List[str]):\n",
    "        \n",
    "        res = []\n",
    "        \n",
    "        for topic in tqdm(topics):\n",
    "\n",
    "            try:\n",
    "                self._init_chat(topics[topic])\n",
    "                answer = self.model.invoke(\n",
    "                    self.messages\n",
    "                )\n",
    "            except OutputParserException:\n",
    "                answer = {'topic': topic, 'menace_status': 'да', 'comment': 'чувствительная тема', 'highlights': ''}\n",
    "                \n",
    "            res.append(dict(answer))\n",
    "        \n",
    "        return res"
   ]
  },
  {
   "cell_type": "code",
   "execution_count": 5,
   "id": "f2cc744a-ab80-4f78-ad2d-7025332ddbef",
   "metadata": {},
   "outputs": [],
   "source": [
    "with open('gc-token.txt', 'r') as file:\n",
    "    TOKEN = file.read()\n",
    "\n",
    "system_prompt = '''\n",
    "    Ты - помошник по борьбе с онлайн мошенничеством в банке.\n",
    "    Тебе дают диалог на определенную тему на одном из онлайн банковских форумов.\n",
    "    Твоя задача - определить, содержит ли диалог элементы мошенничества - \n",
    "    если да, ответь \"да\", иначе - \"нет\".\n",
    "    Также дай небольшой комментарий, почему ты так решил.\n",
    "    Главные слова в диалоге - подсвети.\n",
    "\n",
    "    Проанализируй тему и верни ответ в формате JSON со структурой:\n",
    "        {\n",
    "          \"topic\": \"оригинальное название темы\"\n",
    "          \"menace_status\": \"да/нет\",\n",
    "          \"comment\": \"твой короткомментарий\",\n",
    "          \"highlights\": \"самые яркие тезисы диалога, если мошенничество, то явные слова о мошенничестве\"\n",
    "        }\n",
    "\n",
    "    Запрещено:\n",
    "        - Добавлять посторонний текст\n",
    "        - Менять структуру JSON\n",
    "'''\n",
    "\n",
    "giga = GigaMenace(TOKEN, system_prompt)"
   ]
  },
  {
   "cell_type": "markdown",
   "id": "9da79f0f-bace-49cb-8bfa-56162acc55b0",
   "metadata": {},
   "source": [
    "# Hranidengi.com"
   ]
  },
  {
   "cell_type": "code",
   "execution_count": 6,
   "id": "599fd88f-5080-4c68-a78f-64e51cc361dc",
   "metadata": {},
   "outputs": [],
   "source": [
    "hranidengi_parser = build_hranidengi_parser()\n",
    "\n",
    "hranidengi_topics = pd.read_csv('data/hranidengi_mapping_credit_story.csv')\n",
    "hranidengi_topics = hranidengi_topics[hranidengi_topics['menace_status'] == 'да']\n",
    "\n",
    "hranidengi_topics_links = hranidengi_parser.parse_topics('https://hranidengi.com/forums/kreditnaja-istorija/')"
   ]
  },
  {
   "cell_type": "code",
   "execution_count": 7,
   "id": "4b935df3-fdec-4175-9040-84f27b4bd62f",
   "metadata": {},
   "outputs": [
    {
     "data": {
      "text/plain": [
       "{'Незаконные запросы кредитной истории': 'https://hranidengi.com/threads/nezakonnye-zaprosy-kreditnoj-istorii.229/',\n",
       " 'Обсуждение и анализ кредитной истории': 'https://hranidengi.com/threads/obsuzhdenie-i-analiz-kreditnoj-istorii.1119/',\n",
       " 'Как бесплатно проверить кредитную историю': 'https://hranidengi.com/threads/kak-besplatno-proverit-kreditnuju-istoriju.401/',\n",
       " 'Сервисы оплаты частями и их влияние на кредитную историю': 'https://hranidengi.com/threads/servisy-oplaty-chastjami-i-ix-vlijanie-na-kreditnuju-istoriju.669/',\n",
       " 'Банк \"Россия\" завышает среднемесячные платежи': 'https://hranidengi.com/threads/bank-rossija-zavyshaet-srednemesjachnye-platezhi.920/',\n",
       " 'Внесение изменений в кредитную историю': 'https://hranidengi.com/threads/vnesenie-izmenenij-v-kreditnuju-istoriju.231/',\n",
       " 'Вопрос ламера: как испортить КИ любимому родственнику, за которым нужен присмотр, если нет ресурсов на круглосуточный присмотр.': 'https://hranidengi.com/threads/vopros-lamera-kak-isportit-ki-ljubimomu-rodstvenniku-za-kotorym-nuzhen-prismotr-esli-net-resursov-na-kruglosutochnyj-prismotr.529/',\n",
       " 'Банкротство и кредитная история': 'https://hranidengi.com/threads/bankrotstvo-i-kreditnaja-istorija.312/'}"
      ]
     },
     "execution_count": 7,
     "metadata": {},
     "output_type": "execute_result"
    }
   ],
   "source": [
    "hranidengi_topics_links"
   ]
  },
  {
   "cell_type": "code",
   "execution_count": 8,
   "id": "afe83ec3-5539-4e88-94c8-907d0cea42dd",
   "metadata": {},
   "outputs": [],
   "source": [
    "messages = dict()\n",
    "\n",
    "for topic in hranidengi_topics['topic']:\n",
    "    parsed = list(\n",
    "        hranidengi_parser.parse_topic_comments(hranidengi_topics_links[topic], 5).values()\n",
    "    )[0]\n",
    "    parsed = ''.join(parsed).split('#')\n",
    "    messages[topic] = parsed"
   ]
  },
  {
   "cell_type": "code",
   "execution_count": 9,
   "id": "ee909f24-89b2-463a-b59c-d47fa30bf8ad",
   "metadata": {},
   "outputs": [
    {
     "name": "stderr",
     "output_type": "stream",
     "text": [
      "100%|█████████████████████████████████████████████| 1/1 [00:01<00:00,  1.89s/it]\n"
     ]
    }
   ],
   "source": [
    "hranidengi_res = giga.inference(messages)"
   ]
  },
  {
   "cell_type": "code",
   "execution_count": 10,
   "id": "f6ef280d-5d41-4241-bcd0-01c698cdba37",
   "metadata": {},
   "outputs": [
    {
     "data": {
      "text/plain": [
       "[{'topic': 'Вопрос ламера: как испортить КИ любимому родственнику, за которым нужен присмотр, если нет ресурсов на круглосуточный присмотр.',\n",
       "  'menace_status': 'да',\n",
       "  'comment': 'чувствительная тема',\n",
       "  'highlights': ''}]"
      ]
     },
     "execution_count": 10,
     "metadata": {},
     "output_type": "execute_result"
    }
   ],
   "source": [
    "hranidengi_res"
   ]
  },
  {
   "cell_type": "markdown",
   "id": "49704549-a240-4a6d-8759-3ce20f98bd78",
   "metadata": {},
   "source": [
    "# Findozor.net"
   ]
  },
  {
   "cell_type": "code",
   "execution_count": 11,
   "id": "a3dfca39-dfb4-4731-991e-fc00388f74db",
   "metadata": {},
   "outputs": [],
   "source": [
    "findozor_parser = build_findozor_parser()\n",
    "\n",
    "findozor_topics = pd.read_csv('data/findozor_mapping_credit_story.csv')\n",
    "# findozor_topics = findozor_topics[findozor_topics['menace_status'] == 'да']\n",
    "findozor_topics = {\n",
    "    'На авито предлагают за деньги разблокировать счёт в банке',\n",
    "    'Рефинансирование в почта банке',\n",
    "    'Фейковое место работы',\n",
    "    'Кредиты',\n",
    "    'Нудна помощь! Займов 6 штук, на 100 000, рефенанс, кредит что делать?',\n",
    "    'Рефинансирование'\n",
    "}\n",
    "\n",
    "findozor_topics_links = findozor_parser.parse_topics('https://findozor.net/forum/forums/banki2/', deep = 5)"
   ]
  },
  {
   "cell_type": "code",
   "execution_count": 12,
   "id": "b8540cfd-b3e1-44be-bc9f-38774aa937ed",
   "metadata": {},
   "outputs": [
    {
     "data": {
      "text/plain": [
       "{'Рефинансирование в почта банке': 'https://findozor.net/forum/threads/refinansirovaniye-v-pochta-banke.29579/',\n",
       " 'На авито предлагают за деньги разблокировать счёт в банке': 'https://findozor.net/forum/threads/na-avito-predlagayut-za-den-gi-razblokirovat-schet-v-banke.25207/',\n",
       " 'В каких банках одобряют карты на рассрочку': 'https://findozor.net/forum/threads/v-kakikh-bankakh-odobryayut-karty-na-rassrochku.29540/',\n",
       " 'Вклад или накопительный счет — что посоветуете?': 'https://findozor.net/forum/threads/vklad-ili-nakopitel-nyi-schet-chto-posovetuyete.29433/',\n",
       " 'Могут ли банки названивать часто, если не беру трубку?': 'https://findozor.net/forum/threads/mogut-li-banki-nazvanivat-chasto-yesli-ne-beru-trubku.26408/',\n",
       " 'Всем привет 👋 где взять деньги с очень плохой кредитной историей?': 'https://findozor.net/forum/threads/vsem-privet-waving-hand-gde-vzyat-den-gi-s-ochen-plokhoi-kreditnoi-istoriyei.24028/',\n",
       " 'Можно ли оформить кредитную карту при аресте в Сбер': 'https://findozor.net/forum/threads/mozhno-li-oformit-kreditnuyu-kartu-pri-areste-v-sber.26745/',\n",
       " 'WB Банк начал выпуск банковских карт': 'https://findozor.net/forum/threads/wb-bank-nachal-vypusk-bankovskikh-kart.29074/',\n",
       " 'Как взять крупный кредит': 'https://findozor.net/forum/threads/kak-vzyat-krupnyi-kredit.16578/',\n",
       " 'Дает ли Т-Банк реструктуризацию как раньше': 'https://findozor.net/forum/threads/dayet-li-t-bank-restrukturizatsiyu-kak-ran-she.27272/',\n",
       " 'СМС от 900': 'https://findozor.net/forum/threads/sms-ot-900.27565/',\n",
       " 'Кредит': 'https://findozor.net/forum/threads/kredit.20273/',\n",
       " 'АТБ БАНК  (Азиатско-Тихоокеанский банк)': 'https://findozor.net/forum/threads/atb-bank-aziat-sko-tikhookeanskii-bank.22569/',\n",
       " 'YOOMONEY': 'https://findozor.net/forum/threads/yoomoney.25950/',\n",
       " 'Фейковое место работы': 'https://findozor.net/forum/threads/feikovoye-mesto-raboty.26383/',\n",
       " 'Есть ли аналоги А денег и кубышки': 'https://findozor.net/forum/threads/yest-li-analogi-a-deneg-i-kubyshki.25690/',\n",
       " 'Кто пользуется картой \"Озон банка\"?': 'https://findozor.net/forum/threads/kto-pol-zuyet-sya-kartoi-ozon-banka.25010/',\n",
       " 'Кредитная карта после погашения по ИП': 'https://findozor.net/forum/threads/kreditnaya-karta-posle-pogasheniya-po-ip.24590/',\n",
       " 'Юни кредит банк': 'https://findozor.net/forum/threads/yuni-kredit-bank.24552/',\n",
       " 'Альфа-лимит': 'https://findozor.net/forum/threads/al-fa-limit.24501/',\n",
       " 'Кредит под залог с низкой КИ': 'https://findozor.net/forum/threads/kredit-pod-zalog-s-nizkoi-ki.24282/',\n",
       " 'Не работает озон': 'https://findozor.net/forum/threads/ne-rabotayet-ozon.23836/',\n",
       " 'Сбербанк кредитная карта': 'https://findozor.net/forum/threads/sberbank-kreditnaya-karta.19049/',\n",
       " 'Возврат средств со счета': 'https://findozor.net/forum/threads/vozvrat-sredstv-so-scheta.22196/',\n",
       " 'Историю операций как запросить?': 'https://findozor.net/forum/threads/istoriyu-operatsii-kak-zaprosit.22191/',\n",
       " 'ОТП Банк ИП': 'https://findozor.net/forum/threads/otp-bank-ip.20618/',\n",
       " 'Просрочка по ипотеке Сбер': 'https://findozor.net/forum/threads/prosrochka-po-ipoteke-sber.16259/',\n",
       " 'ИПБ банк': 'https://findozor.net/forum/threads/ipb-bank.19440/',\n",
       " 'Кредиты': 'https://findozor.net/forum/threads/kredity.18662/',\n",
       " 'Банки с работающими на iOS приложениями': 'https://findozor.net/forum/threads/banki-s-rabotayushchimi-na-ios-prilozheniyami.18413/',\n",
       " 'Комиссия 300р ВТБ при снятии со стороннего банкомата.': 'https://findozor.net/forum/threads/komissiya-300r-vtb-pri-snyatii-so-storonnego-bankomata.16285/',\n",
       " 'Зарубежные переводы - входящие исходящие': 'https://findozor.net/forum/threads/zarubezhnyye-perevody-vkhodyashchiye-iskhodyashchiye.15125/',\n",
       " 'Возврат страховки по кредиту Совкомбанка': 'https://findozor.net/forum/threads/vozvrat-strakhovki-po-kreditu-sovkombanka.7975/',\n",
       " 'Банк и страхование вкладов': 'https://findozor.net/forum/threads/bank-i-strakhovaniye-vkladov.12496/',\n",
       " 'Банк центрокредит': 'https://findozor.net/forum/threads/bank-tsentrokredit.12543/',\n",
       " 'Подскажите банк с кешбеком и лучшими условиявиями': 'https://findozor.net/forum/threads/podskazhite-bank-s-keshbekom-i-luchshimi-usloviyaviyami.12262/',\n",
       " 'Дебетовка для ИП': 'https://findozor.net/forum/threads/debetovka-dlya-ip.10520/',\n",
       " 'Почтабанк': 'https://findozor.net/forum/threads/pochtabank.9804/',\n",
       " 'В каком банке для ИП обслуживаетесь?': 'https://findozor.net/forum/threads/v-kakom-banke-dlya-ip-obsluzhivayetes.10037/',\n",
       " 'Долгое открытие счета ИП': 'https://findozor.net/forum/threads/dolgoye-otkrytiye-scheta-ip.9566/',\n",
       " 'МКБ банк превзошло себя!': 'https://findozor.net/forum/threads/mkb-bank-prevzoshlo-sebya.7810/',\n",
       " 'Рефинансирование': 'https://findozor.net/forum/threads/refinansirovaniye.9216/',\n",
       " 'Влияние займов в МФО на решение банков/Ипотека при большой нагрузке': 'https://findozor.net/forum/threads/vliyaniye-zaimov-v-mfo-na-resheniye-bankov-ipoteka-pri-bol-shoi-nagruzke.1896/',\n",
       " 'Кто пробовал брать кредитку по новому паспорту, как успехи?': 'https://findozor.net/forum/threads/kto-proboval-brat-kreditku-po-novomu-pasportu-kak-uspekhi.7157/',\n",
       " 'Центр-инвест предварительно одобрено , отправляют в отделение': 'https://findozor.net/forum/threads/tsentr-invest-predvaritel-no-odobreno-otpravlyayut-v-otdeleniye.5570/',\n",
       " 'Рефинансирование под залог недвижимости': 'https://findozor.net/forum/threads/refinansirovaniye-pod-zalog-nedvizhimosti.5299/',\n",
       " 'Наша компания отнесена Центральным банком Российской Федерации (далее – Банк России) к группе высокой степени (уровню) риска': 'https://findozor.net/forum/threads/nasha-kompaniya-otnesena-tsentral-nym-bankom-rossiiskoi-federatsii-daleye-bank-rossii-k-gruppe-vysokoi-stepeni-urovnyu-riska.4970/',\n",
       " 'Почта банк совсем не уважает своих клиентов.': 'https://findozor.net/forum/threads/pochta-bank-sovsem-ne-uvazhayet-svoikh-kliyentov.4186/',\n",
       " 'Тинькофф и МФО - правильно ли выстроила порядок погашения?': 'https://findozor.net/forum/threads/tin-koff-i-mfo-pravil-no-li-vystroila-poryadok-pogasheniya.3925/',\n",
       " 'Стройкредит.': 'https://findozor.net/forum/threads/stroikredit.3413/',\n",
       " 'Нудна помощь! Займов 6 штук, на 100 000, рефенанс, кредит что делать?': 'https://findozor.net/forum/threads/nudna-pomoshch-zaimov-6-shtuk-na-100-000-refenans-kredit-chto-delat.3096/',\n",
       " 'Помогите разобраться На счет наложен арест УФССП': 'https://findozor.net/forum/threads/pomogite-razobrat-sya-na-schet-nalozhen-arest-ufssp.1903/',\n",
       " 'банк пойдём': 'https://findozor.net/forum/threads/bank-poidem.2172/',\n",
       " 'сбербанк подал в суд': 'https://findozor.net/forum/threads/sberbank-podal-v-sud.1681/'}"
      ]
     },
     "execution_count": 12,
     "metadata": {},
     "output_type": "execute_result"
    }
   ],
   "source": [
    "findozor_topics_links"
   ]
  },
  {
   "cell_type": "code",
   "execution_count": 13,
   "id": "952a2bbe-0ea9-4377-b5aa-632083dda307",
   "metadata": {},
   "outputs": [],
   "source": [
    "messages = dict()\n",
    "\n",
    "for topic in findozor_topics:\n",
    "    parsed = list(\n",
    "        findozor_parser.parse_topic_comments(findozor_topics_links[topic], 5).values()\n",
    "    )[0]\n",
    "    parsed = ''.join(parsed).split('#')\n",
    "    messages[topic] = parsed"
   ]
  },
  {
   "cell_type": "code",
   "execution_count": 14,
   "id": "9bdfe08a-22d4-40a4-9c0c-0cc73e291647",
   "metadata": {},
   "outputs": [
    {
     "name": "stderr",
     "output_type": "stream",
     "text": [
      "100%|█████████████████████████████████████████████| 6/6 [00:06<00:00,  1.10s/it]\n"
     ]
    }
   ],
   "source": [
    "findozor_res = giga.inference(messages)"
   ]
  },
  {
   "cell_type": "code",
   "execution_count": 15,
   "id": "bf8933c3-82d9-439d-9710-96a94ac11c67",
   "metadata": {},
   "outputs": [
    {
     "data": {
      "text/plain": [
       "[{'topic': 'Заморозка суммы кредита для погашения',\n",
       "  'menace_status': 'нет',\n",
       "  'comment': 'Обсуждение носит информативный характер без явных признаков мошенничества.',\n",
       "  'highlights': 'диалог посвящен вопросам реструктуризации долга и получения скидок от банков при наличии просрочек, без упоминания мошеннических схем'},\n",
       " {'topic': 'На авито предлагают за деньги разблокировать счёт в банке',\n",
       "  'menace_status': 'да',\n",
       "  'comment': 'чувствительная тема',\n",
       "  'highlights': ''},\n",
       " {'topic': 'Фейковое место работы',\n",
       "  'menace_status': 'да',\n",
       "  'comment': 'чувствительная тема',\n",
       "  'highlights': ''},\n",
       " {'topic': 'Рефинансирование в почта банке',\n",
       "  'menace_status': 'да',\n",
       "  'comment': 'чувствительная тема',\n",
       "  'highlights': ''},\n",
       " {'topic': 'Рекомендации по закрытию займов в микрофинансовых организациях',\n",
       "  'menace_status': 'нет',\n",
       "  'comment': 'Обсуждение рекомендаций по управлению долгами в микрофинансовых организациях без признаков мошенничества.',\n",
       "  'highlights': 'выходи на просрочки, обращайся в другие МФО, частные лица не помогут, переплата в новых займах выше'},\n",
       " {'topic': 'Рефинансирование',\n",
       "  'menace_status': 'да',\n",
       "  'comment': 'чувствительная тема',\n",
       "  'highlights': ''}]"
      ]
     },
     "execution_count": 15,
     "metadata": {},
     "output_type": "execute_result"
    }
   ],
   "source": [
    "findozor_res"
   ]
  }
 ],
 "metadata": {
  "kernelspec": {
   "display_name": "main-venv",
   "language": "python",
   "name": "main-venv"
  },
  "language_info": {
   "codemirror_mode": {
    "name": "ipython",
    "version": 3
   },
   "file_extension": ".py",
   "mimetype": "text/x-python",
   "name": "python",
   "nbconvert_exporter": "python",
   "pygments_lexer": "ipython3",
   "version": "3.10.12"
  }
 },
 "nbformat": 4,
 "nbformat_minor": 5
}
