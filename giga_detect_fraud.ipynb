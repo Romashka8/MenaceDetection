{
 "cells": [
  {
   "cell_type": "code",
   "execution_count": 1,
   "id": "cd4af421-dca5-4b6b-9a06-e8e871d66cb5",
   "metadata": {},
   "outputs": [
    {
     "name": "stdout",
     "output_type": "stream",
     "text": [
      "Installed kernelspec main-venv in /home/roman/.local/share/jupyter/kernels/main-venv\n"
     ]
    }
   ],
   "source": [
    "! python3 -m ipykernel install --user --name=main-venv"
   ]
  },
  {
   "cell_type": "code",
   "execution_count": 2,
   "id": "58ca1d64-fa9d-42a4-812b-c64147327a34",
   "metadata": {},
   "outputs": [],
   "source": [
    "import os\n",
    "\n",
    "import json\n",
    "\n",
    "from tqdm import tqdm\n",
    "\n",
    "import pandas as pd\n",
    "import numpy as np\n",
    "\n",
    "from pydantic import BaseModel, Field\n",
    "\n",
    "from typing import List\n",
    "\n",
    "from langchain_core.messages import SystemMessage, AIMessage, HumanMessage\n",
    "from langchain_core.exceptions import OutputParserException\n",
    "\n",
    "from langchain_gigachat.chat_models import GigaChat\n",
    "\n",
    "from datasets.parser_dataset import ParserDataset"
   ]
  },
  {
   "cell_type": "code",
   "execution_count": 3,
   "id": "17e2f7c3-28be-4116-b5a9-10d82d7dd7a8",
   "metadata": {},
   "outputs": [],
   "source": [
    "DATA_DIR = \"data\""
   ]
  },
  {
   "cell_type": "markdown",
   "id": "90fad222-e9c6-49d8-a719-e91c22904af0",
   "metadata": {},
   "source": [
    "# ✅Build Giga solution"
   ]
  },
  {
   "cell_type": "code",
   "execution_count": 4,
   "id": "75b4000a-4a3e-41fa-a5de-81f615b678b0",
   "metadata": {},
   "outputs": [],
   "source": [
    "class GigaOutput(BaseModel):\n",
    "\n",
    "    topic: str = Field(description='''\n",
    "        Название темы на форуме.\n",
    "    ''')\n",
    "    menace_status: str = Field(description='''\n",
    "        Ответ от Гигачата на вопрос, обсуждается ли\n",
    "        в этой теме нарушение закона с целью личной выгоды.\n",
    "    '''),\n",
    "    comment: str = Field(description='''\n",
    "        Небольшой комментарий от Гигачата,\n",
    "        почему он посчитал обсуждение в теме мошенническими.\n",
    "    ''')\n",
    "    highlights: str = Field(description='''\n",
    "        Главные, по мнению гигачата, слова. \n",
    "    ''')\n",
    "\n",
    "class GigaMenace:\n",
    "\n",
    "    def __init__(self, token: str, prompt: str, model: str = 'GigaChat-2'):\n",
    "\n",
    "        self.model = GigaChat(\n",
    "            credentials=token,\n",
    "            verify_ssl_certs=False,\n",
    "            model=model\n",
    "        ).with_structured_output(GigaOutput, method='json_mode')\n",
    "\n",
    "        self.prompt = prompt\n",
    "        self.messages = []\n",
    "\n",
    "    def _init_chat(self, messages: List[str]):\n",
    "        \n",
    "        self.messages = [\n",
    "            SystemMessage(content=self.prompt)\n",
    "        ]\n",
    "\n",
    "        for message in messages:\n",
    "            self.messages.append(\n",
    "                HumanMessage(content=str(message))\n",
    "            )\n",
    "    \n",
    "    def inference(self, topics: List[str]):\n",
    "        \n",
    "        res = []\n",
    "        \n",
    "        for topic in tqdm(topics):\n",
    "\n",
    "            try:\n",
    "                self._init_chat(topics[topic])\n",
    "                answer = self.model.invoke(\n",
    "                    self.messages\n",
    "                )\n",
    "            except OutputParserException:\n",
    "                answer = {'topic': topic, 'menace_status': 'да', 'comment': 'чувствительная тема', 'highlights': ''}\n",
    "                \n",
    "            res.append(dict(answer))\n",
    "        \n",
    "        return res"
   ]
  },
  {
   "cell_type": "code",
   "execution_count": 5,
   "id": "f2cc744a-ab80-4f78-ad2d-7025332ddbef",
   "metadata": {},
   "outputs": [],
   "source": [
    "with open('gc-token.txt', 'r') as file:\n",
    "    TOKEN = file.read()\n",
    "\n",
    "system_prompt = '''\n",
    "    Ты - помошник по борьбе с онлайн мошенничеством в банке.\n",
    "    Тебе дают диалог на определенную тему на одном из онлайн банковских форумов.\n",
    "    Твоя задача - определить, содержит ли диалог элементы мошенничества - \n",
    "    если да, ответь \"да\", иначе - \"нет\".\n",
    "    Также дай небольшой комментарий, почему ты так решил.\n",
    "    Главные слова в диалоге - подсвети.\n",
    "\n",
    "    Проанализируй тему и верни ответ в формате JSON со структурой:\n",
    "        {\n",
    "          \"topic\": \"оригинальное название темы\"\n",
    "          \"menace_status\": \"да/нет\",\n",
    "          \"comment\": \"твой короткомментарий\",\n",
    "          \"highlights\": \"самые яркие тезисы диалога, если мошенничество, то явные слова о мошенничестве\"\n",
    "        }\n",
    "\n",
    "    Запрещено:\n",
    "        - Добавлять посторонний текст\n",
    "        - Менять структуру JSON\n",
    "'''\n",
    "\n",
    "giga = GigaMenace(TOKEN, system_prompt)"
   ]
  },
  {
   "cell_type": "markdown",
   "id": "9da79f0f-bace-49cb-8bfa-56162acc55b0",
   "metadata": {},
   "source": [
    "# ✅Detect fraud in Kupus.ru"
   ]
  },
  {
   "cell_type": "code",
   "execution_count": 8,
   "id": "599fd88f-5080-4c68-a78f-64e51cc361dc",
   "metadata": {},
   "outputs": [],
   "source": [
    "kupus_topics_df = pd.read_excel(os.path.join(DATA_DIR, 'collected/kupus_headers.xlsx'))\n",
    "kupus_topics_mapped = pd.read_csv(os.path.join(DATA_DIR, 'kupus_mapping_credits.csv'))\n",
    "kupus_topics_mapped = kupus_topics_mapped[kupus_topics_mapped['menace_status'] == 'да']\n",
    "\n",
    "kupus_topics_df = kupus_topics_df.merge(kupus_topics_mapped, left_on='flud name', right_on='topic')\n",
    "\n",
    "kupus_comments = pd.read_excel(os.path.join(DATA_DIR, 'collected/kupus_comments.xlsx'))"
   ]
  },
  {
   "cell_type": "code",
   "execution_count": 21,
   "id": "4050e3d3-57e4-4e2a-963c-2e7ccbe070ed",
   "metadata": {},
   "outputs": [
    {
     "name": "stderr",
     "output_type": "stream",
     "text": [
      "  0%|                                                     | 0/2 [00:00<?, ?it/s]Giga generation stopped with reason: blacklist\n",
      " 50%|██████████████████████▌                      | 1/2 [00:00<00:00,  1.48it/s]Giga generation stopped with reason: blacklist\n",
      "100%|█████████████████████████████████████████████| 2/2 [00:01<00:00,  1.02it/s]\n"
     ]
    }
   ],
   "source": [
    "messages = dict()\n",
    "\n",
    "for topic in set(kupus_topics_df['topic name'].values):\n",
    "    dialog = kupus_comments[kupus_comments['topic name'] == topic]['message'].values\n",
    "    messages[topic] = dialog\n",
    "\n",
    "kupus_res = giga.inference(messages)"
   ]
  },
  {
   "cell_type": "code",
   "execution_count": 22,
   "id": "2c43331f-4fbf-44dc-80bc-81ec8609d563",
   "metadata": {},
   "outputs": [
    {
     "data": {
      "text/plain": [
       "[{'topic': 'Секреты и Лайфхаки',\n",
       "  'menace_status': 'да',\n",
       "  'comment': 'чувствительная тема',\n",
       "  'highlights': ''},\n",
       " {'topic': 'Мошеннические транзакции',\n",
       "  'menace_status': 'да',\n",
       "  'comment': 'чувствительная тема',\n",
       "  'highlights': ''}]"
      ]
     },
     "execution_count": 22,
     "metadata": {},
     "output_type": "execute_result"
    }
   ],
   "source": [
    "kupus_res"
   ]
  },
  {
   "cell_type": "markdown",
   "id": "49704549-a240-4a6d-8759-3ce20f98bd78",
   "metadata": {},
   "source": [
    "# ✅Detect fraud hranidengi"
   ]
  },
  {
   "cell_type": "code",
   "execution_count": 23,
   "id": "a3dfca39-dfb4-4731-991e-fc00388f74db",
   "metadata": {},
   "outputs": [],
   "source": [
    "hranidengi_topics_df = pd.read_excel(os.path.join(DATA_DIR, 'collected/hranidengi_headers.xlsx'))\n",
    "hranidengi_topics_mapped = pd.read_csv(os.path.join(DATA_DIR, 'hranidengi_mapping_credits.csv'))\n",
    "hranidengi_topics_mapped = hranidengi_topics_mapped[hranidengi_topics_mapped['menace_status'] == 'да']\n",
    "\n",
    "hranidengi_topics_df = hranidengi_topics_df.merge(hranidengi_topics_mapped, left_on='flud name', right_on='topic')\n",
    "\n",
    "hranidengi_comments = pd.read_excel(os.path.join(DATA_DIR, 'collected/hranidengi_comments.xlsx'))"
   ]
  },
  {
   "cell_type": "markdown",
   "id": "44968923-792d-4d7e-ae26-493e92bf9c20",
   "metadata": {},
   "source": [
    "Idea - same, but open "
   ]
  }
 ],
 "metadata": {
  "kernelspec": {
   "display_name": "main-venv",
   "language": "python",
   "name": "main-venv"
  },
  "language_info": {
   "codemirror_mode": {
    "name": "ipython",
    "version": 3
   },
   "file_extension": ".py",
   "mimetype": "text/x-python",
   "name": "python",
   "nbconvert_exporter": "python",
   "pygments_lexer": "ipython3",
   "version": "3.10.12"
  }
 },
 "nbformat": 4,
 "nbformat_minor": 5
}
