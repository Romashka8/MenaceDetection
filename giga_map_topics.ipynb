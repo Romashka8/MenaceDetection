{
 "cells": [
  {
   "cell_type": "code",
   "execution_count": 1,
   "id": "af28458f-113c-4d17-939c-b29e4807c348",
   "metadata": {},
   "outputs": [
    {
     "name": "stdout",
     "output_type": "stream",
     "text": [
      "Installed kernelspec main-venv in /home/roman/.local/share/jupyter/kernels/main-venv\n"
     ]
    }
   ],
   "source": [
    "! python3 -m ipykernel install --user --name=main-venv"
   ]
  },
  {
   "cell_type": "code",
   "execution_count": 2,
   "id": "b2fd55aa-452d-4be3-9b57-154bab83b6c2",
   "metadata": {},
   "outputs": [],
   "source": [
    "import os\n",
    "\n",
    "import json\n",
    "\n",
    "from tqdm import tqdm\n",
    "\n",
    "import pandas as pd\n",
    "import numpy as np\n",
    "\n",
    "from pydantic import BaseModel, Field\n",
    "\n",
    "from typing import List\n",
    "\n",
    "from langchain_core.messages import SystemMessage, AIMessage, HumanMessage\n",
    "from langchain_core.exceptions import OutputParserException\n",
    "\n",
    "from langchain_gigachat.chat_models import GigaChat\n",
    "\n",
    "from datasets.parser_dataset import ParserDataset"
   ]
  },
  {
   "cell_type": "code",
   "execution_count": 3,
   "id": "39f60387-172a-465b-95c3-efa5185fa05d",
   "metadata": {},
   "outputs": [],
   "source": [
    "DATA_DIR = \"data\""
   ]
  },
  {
   "cell_type": "markdown",
   "id": "a0c48446-4575-4cea-be4e-842d7d7e9bb8",
   "metadata": {},
   "source": [
    "# ✅Build Giga based solution"
   ]
  },
  {
   "cell_type": "code",
   "execution_count": 4,
   "id": "d44389aa-cde2-4400-8f66-5a78926de358",
   "metadata": {},
   "outputs": [],
   "source": [
    "class GigaOutput(BaseModel):\n",
    "\n",
    "    topic: str = Field(description='''\n",
    "        Описание темы на форуме.\n",
    "    ''')\n",
    "    menace_status: str = Field(description='''\n",
    "        Ответ от Гигачата на вопрос, является ли данная\n",
    "        тема на форуме потенциально мошеннической.\n",
    "    '''),\n",
    "    comment: str = Field(description='''\n",
    "        Небольшой комментарий от Гигачата,\n",
    "        почему он посчитал тему потенциально мошеннической.\n",
    "    ''')\n",
    "\n",
    "class GigaMapper:\n",
    "\n",
    "    def __init__(self, token: str, prompt: str, model: str = 'GigaChat-2'):\n",
    "\n",
    "        self.model = GigaChat(\n",
    "            credentials=token,\n",
    "            verify_ssl_certs=False,\n",
    "            model=model\n",
    "        ).with_structured_output(GigaOutput, method=\"json_mode\")\n",
    "\n",
    "        self.messages = [\n",
    "            SystemMessage(content=prompt)\n",
    "        ]\n",
    "\n",
    "    def inference(self, topics: List[str]):\n",
    "\n",
    "        res = []\n",
    "        \n",
    "        for topic in tqdm(topics):\n",
    "\n",
    "            try:\n",
    "                answer = self.model.invoke(self.messages + [HumanMessage(topic)])\n",
    "            except OutputParserException:\n",
    "                answer = {'topic': topic, 'menace_status': 'да', 'comment': 'чувствительная тема'}\n",
    "                \n",
    "            res.append(dict(answer))\n",
    "        \n",
    "        return res"
   ]
  },
  {
   "cell_type": "code",
   "execution_count": 5,
   "id": "3fadbc2f-4cc0-4e24-8395-bfc176523e96",
   "metadata": {},
   "outputs": [],
   "source": [
    "with open('gc-token.txt', 'r') as file:\n",
    "    TOKEN = file.read()\n",
    "\n",
    "system_prompt = '''\n",
    "    Ты - помошник по борьбе с онлайн мошенничеством в банке.\n",
    "    Тебе дают заголовок темы на одном из онлайн банковских форумов.\n",
    "    Твоя задача - определить, является ли тема потенциально мошеннической - \n",
    "    если да, ответь \"да\", иначе - \"нет\".\n",
    "    Также дай небольшой комментарий, почему ты так решил.\n",
    "\n",
    "    Проанализируй тему и верни ответ в формате JSON со структурой:\n",
    "        {\n",
    "          \"topic\": \"оригинальное название темы\"\n",
    "          \"menace_status\": \"да/нет\",\n",
    "          \"comment\": \"твой короткомментарий\"\n",
    "        }\n",
    "\n",
    "    Запрещено:\n",
    "        - Добавлять посторонний текст\n",
    "        - Менять структуру JSON\n",
    "'''\n",
    "\n",
    "giga = GigaMapper(TOKEN, system_prompt)"
   ]
  },
  {
   "cell_type": "markdown",
   "id": "3b23d598-02e6-44c3-9996-335f3cc5a00a",
   "metadata": {},
   "source": [
    "# ✅Map Kupus.ru topics"
   ]
  },
  {
   "cell_type": "markdown",
   "id": "6b31aaa5-076c-474c-b1a1-3af618b37930",
   "metadata": {},
   "source": [
    "## Giga inference"
   ]
  },
  {
   "cell_type": "code",
   "execution_count": 6,
   "id": "2f3779ce-3643-4dc4-9680-94862eb5e62b",
   "metadata": {},
   "outputs": [],
   "source": [
    "dataset = ParserDataset(\"parser/config/kupus.json\", \"data/kupus_headers.json\", \"data/kupus_comments\")\n",
    "kupus_topics_df = dataset.get_headers()"
   ]
  },
  {
   "cell_type": "code",
   "execution_count": 7,
   "id": "fce686b2-dc46-4ab2-9d47-2c6b8a5c0367",
   "metadata": {},
   "outputs": [
    {
     "name": "stderr",
     "output_type": "stream",
     "text": [
      "100%|█████████████████████████████████████████| 158/158 [01:16<00:00,  2.06it/s]\n"
     ]
    }
   ],
   "source": [
    "kupus_topics_df = pd.DataFrame(giga.inference(kupus_topics_df['flud name'].values))"
   ]
  },
  {
   "cell_type": "code",
   "execution_count": 8,
   "id": "79338f00-6a92-4c21-ad40-b0ea1293ae22",
   "metadata": {},
   "outputs": [],
   "source": [
    "kupus_topics_df.to_csv(os.path.join(DATA_DIR, 'kupus_mapping_credits.csv'))"
   ]
  },
  {
   "cell_type": "code",
   "execution_count": 9,
   "id": "8a4ac540-c2a0-41ce-87d6-67d5631938b1",
   "metadata": {},
   "outputs": [
    {
     "data": {
      "text/html": [
       "<div>\n",
       "<style scoped>\n",
       "    .dataframe tbody tr th:only-of-type {\n",
       "        vertical-align: middle;\n",
       "    }\n",
       "\n",
       "    .dataframe tbody tr th {\n",
       "        vertical-align: top;\n",
       "    }\n",
       "\n",
       "    .dataframe thead th {\n",
       "        text-align: right;\n",
       "    }\n",
       "</style>\n",
       "<table border=\"1\" class=\"dataframe\">\n",
       "  <thead>\n",
       "    <tr style=\"text-align: right;\">\n",
       "      <th></th>\n",
       "      <th>topic</th>\n",
       "      <th>menace_status</th>\n",
       "      <th>comment</th>\n",
       "    </tr>\n",
       "  </thead>\n",
       "  <tbody>\n",
       "    <tr>\n",
       "      <th>151</th>\n",
       "      <td>Мобильные приложения. Клонирование.</td>\n",
       "      <td>да</td>\n",
       "      <td>Тема указывает на потенциальную угрозу клониро...</td>\n",
       "    </tr>\n",
       "    <tr>\n",
       "      <th>152</th>\n",
       "      <td>С какими мошенническими схемами вы сталкивались?</td>\n",
       "      <td>да</td>\n",
       "      <td>Тема косвенно указывает на обсуждение возможны...</td>\n",
       "    </tr>\n",
       "    <tr>\n",
       "      <th>157</th>\n",
       "      <td>МКК Академическая и Право онлайн. Мошенническа...</td>\n",
       "      <td>да</td>\n",
       "      <td>Содержит признаки возможного мошенничества: уп...</td>\n",
       "    </tr>\n",
       "  </tbody>\n",
       "</table>\n",
       "</div>"
      ],
      "text/plain": [
       "                                                 topic menace_status  \\\n",
       "151                Мобильные приложения. Клонирование.            да   \n",
       "152   С какими мошенническими схемами вы сталкивались?            да   \n",
       "157  МКК Академическая и Право онлайн. Мошенническа...            да   \n",
       "\n",
       "                                               comment  \n",
       "151  Тема указывает на потенциальную угрозу клониро...  \n",
       "152  Тема косвенно указывает на обсуждение возможны...  \n",
       "157  Содержит признаки возможного мошенничества: уп...  "
      ]
     },
     "execution_count": 9,
     "metadata": {},
     "output_type": "execute_result"
    }
   ],
   "source": [
    "kupus_topics_df[kupus_topics_df['menace_status'] == 'да']"
   ]
  },
  {
   "cell_type": "markdown",
   "id": "c123e13a-5137-4cf6-b5ef-8f51ead90fc7",
   "metadata": {},
   "source": [
    "# ✅Map Hranidengi.com topics"
   ]
  },
  {
   "cell_type": "markdown",
   "id": "20d4cf80-669c-496f-bfe9-1d0b99003e99",
   "metadata": {},
   "source": [
    "## Giga inference"
   ]
  },
  {
   "cell_type": "code",
   "execution_count": 10,
   "id": "c011e027-64fe-48fb-a5cf-b06149d8e7c0",
   "metadata": {},
   "outputs": [],
   "source": [
    "dataset = ParserDataset(\"parser/config/hranidengi.json\", \"data/hranidengi_headers.json\", \"data/hranidengi_comments\")\n",
    "hranidengi_topics_df = dataset.get_headers()"
   ]
  },
  {
   "cell_type": "code",
   "execution_count": 11,
   "id": "a3824c52-0304-4014-9a9f-c7d29e845797",
   "metadata": {},
   "outputs": [
    {
     "name": "stderr",
     "output_type": "stream",
     "text": [
      " 64%|██████████████████████████               | 100/157 [00:48<00:27,  2.06it/s]Giga generation stopped with reason: blacklist\n",
      "100%|█████████████████████████████████████████| 157/157 [01:16<00:00,  2.06it/s]\n"
     ]
    }
   ],
   "source": [
    "hranidengi_topics_df = pd.DataFrame(giga.inference(hranidengi_topics_df['flud name'].values))"
   ]
  },
  {
   "cell_type": "code",
   "execution_count": 12,
   "id": "acb96c0a-8c63-4372-ac6b-d92e4002f445",
   "metadata": {},
   "outputs": [],
   "source": [
    "hranidengi_topics_df.to_csv(os.path.join(DATA_DIR, 'hranidengi_mapping_credits.csv'))"
   ]
  },
  {
   "cell_type": "code",
   "execution_count": 13,
   "id": "c9dc53af-7369-4f75-8843-428764909310",
   "metadata": {},
   "outputs": [
    {
     "data": {
      "text/html": [
       "<div>\n",
       "<style scoped>\n",
       "    .dataframe tbody tr th:only-of-type {\n",
       "        vertical-align: middle;\n",
       "    }\n",
       "\n",
       "    .dataframe tbody tr th {\n",
       "        vertical-align: top;\n",
       "    }\n",
       "\n",
       "    .dataframe thead th {\n",
       "        text-align: right;\n",
       "    }\n",
       "</style>\n",
       "<table border=\"1\" class=\"dataframe\">\n",
       "  <thead>\n",
       "    <tr style=\"text-align: right;\">\n",
       "      <th></th>\n",
       "      <th>topic</th>\n",
       "      <th>menace_status</th>\n",
       "      <th>comment</th>\n",
       "    </tr>\n",
       "  </thead>\n",
       "  <tbody>\n",
       "    <tr>\n",
       "      <th>4</th>\n",
       "      <td>Мошенники через Яндекс доставку</td>\n",
       "      <td>да</td>\n",
       "      <td>Тема указывает на возможную схему мошенничеств...</td>\n",
       "    </tr>\n",
       "    <tr>\n",
       "      <th>5</th>\n",
       "      <td>Схематоз с кредитными картами</td>\n",
       "      <td>да</td>\n",
       "      <td>Тема содержит слово 'схематоз', что обычно ука...</td>\n",
       "    </tr>\n",
       "    <tr>\n",
       "      <th>11</th>\n",
       "      <td>Кидалово интернет-магазина з/частей с оплатой ...</td>\n",
       "      <td>да</td>\n",
       "      <td>Тема указывает на возможный случай мошенничест...</td>\n",
       "    </tr>\n",
       "    <tr>\n",
       "      <th>16</th>\n",
       "      <td>Банк заблокировал все карты и ИБ и отказываетс...</td>\n",
       "      <td>да</td>\n",
       "      <td>Тема указывает на возможные мошеннические дейс...</td>\n",
       "    </tr>\n",
       "    <tr>\n",
       "      <th>20</th>\n",
       "      <td>Банк Альфа вымогает деньги за предоставление с...</td>\n",
       "      <td>да</td>\n",
       "      <td>Тема указывает на возможные незаконные действи...</td>\n",
       "    </tr>\n",
       "    <tr>\n",
       "      <th>100</th>\n",
       "      <td>Вопрос ламера: как испортить КИ любимому родст...</td>\n",
       "      <td>да</td>\n",
       "      <td>чувствительная тема</td>\n",
       "    </tr>\n",
       "    <tr>\n",
       "      <th>104</th>\n",
       "      <td>Передача банковской карты другому лицу для пок...</td>\n",
       "      <td>да</td>\n",
       "      <td>Потенциально мошенническая практика, так как п...</td>\n",
       "    </tr>\n",
       "    <tr>\n",
       "      <th>117</th>\n",
       "      <td>Телефонный террор ООО ПКО \"Авангард\" - как нак...</td>\n",
       "      <td>да</td>\n",
       "      <td>Тема содержит упоминание о телефонном террориз...</td>\n",
       "    </tr>\n",
       "    <tr>\n",
       "      <th>121</th>\n",
       "      <td>Признание мошеннического договора МТС банка не...</td>\n",
       "      <td>да</td>\n",
       "      <td>Тема содержит указание на возможный факт мошен...</td>\n",
       "    </tr>\n",
       "    <tr>\n",
       "      <th>124</th>\n",
       "      <td>Почему дропов не привлекают к уголовной ответс...</td>\n",
       "      <td>да</td>\n",
       "      <td>Тема содержит намек на незаконные действия и м...</td>\n",
       "    </tr>\n",
       "    <tr>\n",
       "      <th>126</th>\n",
       "      <td>Работа с 'аффлами' и не только. Ваши дети или ...</td>\n",
       "      <td>да</td>\n",
       "      <td>Тема содержит намек на манипуляции с финансами...</td>\n",
       "    </tr>\n",
       "    <tr>\n",
       "      <th>127</th>\n",
       "      <td>Авито: полная предоплата, товар не получен</td>\n",
       "      <td>да</td>\n",
       "      <td>Тема указывает на возможную схему мошенничеств...</td>\n",
       "    </tr>\n",
       "    <tr>\n",
       "      <th>129</th>\n",
       "      <td>Мошеннические переводы. Виновен банк или невин...</td>\n",
       "      <td>да</td>\n",
       "      <td>Тема указывает на возможные случаи мошенничест...</td>\n",
       "    </tr>\n",
       "    <tr>\n",
       "      <th>132</th>\n",
       "      <td>Такой опасный спам</td>\n",
       "      <td>да</td>\n",
       "      <td>Тема указывает на возможную угрозу или мошенни...</td>\n",
       "    </tr>\n",
       "    <tr>\n",
       "      <th>134</th>\n",
       "      <td>Хакеры получили реквизиты карты</td>\n",
       "      <td>да</td>\n",
       "      <td>Тема указывает на возможную утечку информации ...</td>\n",
       "    </tr>\n",
       "    <tr>\n",
       "      <th>135</th>\n",
       "      <td>Мошенники, используют Мегамаркет.</td>\n",
       "      <td>да</td>\n",
       "      <td>Тема указывает на возможное использование серв...</td>\n",
       "    </tr>\n",
       "    <tr>\n",
       "      <th>136</th>\n",
       "      <td>С вашей карты украли деньги? расскажите о свое...</td>\n",
       "      <td>да</td>\n",
       "      <td>Тема содержит призыв поделиться личной финансо...</td>\n",
       "    </tr>\n",
       "    <tr>\n",
       "      <th>138</th>\n",
       "      <td>Backit.me (бывший ePn)</td>\n",
       "      <td>да</td>\n",
       "      <td>Ссылаясь на известные схемы мошенничества, свя...</td>\n",
       "    </tr>\n",
       "    <tr>\n",
       "      <th>140</th>\n",
       "      <td>Pampadu — свежая партнерка с мгновенными выпла...</td>\n",
       "      <td>да</td>\n",
       "      <td>Слово 'партнерка' часто используется мошенника...</td>\n",
       "    </tr>\n",
       "  </tbody>\n",
       "</table>\n",
       "</div>"
      ],
      "text/plain": [
       "                                                 topic menace_status  \\\n",
       "4                      Мошенники через Яндекс доставку            да   \n",
       "5                        Схематоз с кредитными картами            да   \n",
       "11   Кидалово интернет-магазина з/частей с оплатой ...            да   \n",
       "16   Банк заблокировал все карты и ИБ и отказываетс...            да   \n",
       "20   Банк Альфа вымогает деньги за предоставление с...            да   \n",
       "100  Вопрос ламера: как испортить КИ любимому родст...            да   \n",
       "104  Передача банковской карты другому лицу для пок...            да   \n",
       "117  Телефонный террор ООО ПКО \"Авангард\" - как нак...            да   \n",
       "121  Признание мошеннического договора МТС банка не...            да   \n",
       "124  Почему дропов не привлекают к уголовной ответс...            да   \n",
       "126  Работа с 'аффлами' и не только. Ваши дети или ...            да   \n",
       "127         Авито: полная предоплата, товар не получен            да   \n",
       "129  Мошеннические переводы. Виновен банк или невин...            да   \n",
       "132                                 Такой опасный спам            да   \n",
       "134                    Хакеры получили реквизиты карты            да   \n",
       "135                  Мошенники, используют Мегамаркет.            да   \n",
       "136  С вашей карты украли деньги? расскажите о свое...            да   \n",
       "138                             Backit.me (бывший ePn)            да   \n",
       "140  Pampadu — свежая партнерка с мгновенными выпла...            да   \n",
       "\n",
       "                                               comment  \n",
       "4    Тема указывает на возможную схему мошенничеств...  \n",
       "5    Тема содержит слово 'схематоз', что обычно ука...  \n",
       "11   Тема указывает на возможный случай мошенничест...  \n",
       "16   Тема указывает на возможные мошеннические дейс...  \n",
       "20   Тема указывает на возможные незаконные действи...  \n",
       "100                                чувствительная тема  \n",
       "104  Потенциально мошенническая практика, так как п...  \n",
       "117  Тема содержит упоминание о телефонном террориз...  \n",
       "121  Тема содержит указание на возможный факт мошен...  \n",
       "124  Тема содержит намек на незаконные действия и м...  \n",
       "126  Тема содержит намек на манипуляции с финансами...  \n",
       "127  Тема указывает на возможную схему мошенничеств...  \n",
       "129  Тема указывает на возможные случаи мошенничест...  \n",
       "132  Тема указывает на возможную угрозу или мошенни...  \n",
       "134  Тема указывает на возможную утечку информации ...  \n",
       "135  Тема указывает на возможное использование серв...  \n",
       "136  Тема содержит призыв поделиться личной финансо...  \n",
       "138  Ссылаясь на известные схемы мошенничества, свя...  \n",
       "140  Слово 'партнерка' часто используется мошенника...  "
      ]
     },
     "execution_count": 13,
     "metadata": {},
     "output_type": "execute_result"
    }
   ],
   "source": [
    "hranidengi_topics_df[hranidengi_topics_df['menace_status'] == 'да']"
   ]
  }
 ],
 "metadata": {
  "kernelspec": {
   "display_name": "main-venv",
   "language": "python",
   "name": "main-venv"
  },
  "language_info": {
   "codemirror_mode": {
    "name": "ipython",
    "version": 3
   },
   "file_extension": ".py",
   "mimetype": "text/x-python",
   "name": "python",
   "nbconvert_exporter": "python",
   "pygments_lexer": "ipython3",
   "version": "3.10.12"
  }
 },
 "nbformat": 4,
 "nbformat_minor": 5
}
