{
 "cells": [
  {
   "cell_type": "code",
   "execution_count": 1,
   "id": "8d979abb-1937-4711-a4bd-84f7bd0bde89",
   "metadata": {},
   "outputs": [],
   "source": [
    "from requests import ConnectionError\n",
    "\n",
    "import json\n",
    "import os\n",
    "\n",
    "import tqdm\n",
    "\n",
    "from parser import online_parser"
   ]
  },
  {
   "cell_type": "code",
   "execution_count": 2,
   "id": "00637885-6169-404c-934b-7bf06cb8bdbd",
   "metadata": {},
   "outputs": [],
   "source": [
    "DATA_DIR = 'data/'"
   ]
  },
  {
   "cell_type": "markdown",
   "id": "0d772ed5-d5ed-4b9a-91eb-b6459c9a9bc7",
   "metadata": {},
   "source": [
    "# ✅Parse Kupus.ru"
   ]
  },
  {
   "cell_type": "code",
   "execution_count": 3,
   "id": "29d2fbdc-7563-41a4-9a67-e01cc6fa6b5e",
   "metadata": {},
   "outputs": [],
   "source": [
    "with open('parser/config/kupus.json', 'r') as file:\n",
    "    kupus_config = json.loads(file.read())\n",
    "\n",
    "kupus_parser = online_parser.OnlineParser(\n",
    "    config=kupus_config\n",
    ")\n",
    "\n",
    "kupus_parse_topics = kupus_config['header_links']"
   ]
  },
  {
   "cell_type": "code",
   "execution_count": 4,
   "id": "3824fcfd-991f-4004-b7b9-407f010c95b4",
   "metadata": {},
   "outputs": [
    {
     "name": "stderr",
     "output_type": "stream",
     "text": [
      "100%|█████████████████████████████████████████████| 7/7 [00:40<00:00,  5.82s/it]\n"
     ]
    }
   ],
   "source": [
    "parsed_topics = {}\n",
    "\n",
    "for link in tqdm.tqdm(kupus_parse_topics):\n",
    "    parsed_topics[link] = kupus_parser.parse_headers(link, deep=10)"
   ]
  },
  {
   "cell_type": "code",
   "execution_count": 5,
   "id": "d8fc9121-2e0d-4a0f-80d9-f772e614dac5",
   "metadata": {},
   "outputs": [],
   "source": [
    "with open(os.path.join(DATA_DIR, 'kupus_headers.json'), 'w') as file:\n",
    "    file.write(json.dumps(parsed_topics))"
   ]
  },
  {
   "cell_type": "code",
   "execution_count": 6,
   "id": "1c34f200-6f6f-41e2-9462-f7ed3557669f",
   "metadata": {
    "collapsed": true,
    "jupyter": {
     "outputs_hidden": true
    },
    "scrolled": true
   },
   "outputs": [
    {
     "name": "stderr",
     "output_type": "stream",
     "text": [
      "Processing topics:   0%|                                  | 0/6 [00:00<?, ?it/s]\n",
      "Processing fluds in https://kupus.ru/forum/18-kreditnye-karty/:   0%| | 0/50 [00\u001b[A\n",
      "Processing fluds in https://kupus.ru/forum/18-kreditnye-karty/:   2%| | 1/50 [00\u001b[A\n",
      "Processing fluds in https://kupus.ru/forum/18-kreditnye-karty/:   4%| | 2/50 [00\u001b[A\n",
      "Processing fluds in https://kupus.ru/forum/18-kreditnye-karty/:   6%| | 3/50 [00\u001b[A\n",
      "Processing fluds in https://kupus.ru/forum/18-kreditnye-karty/:   8%| | 4/50 [00\u001b[A\n",
      "Processing fluds in https://kupus.ru/forum/18-kreditnye-karty/:  10%| | 5/50 [00\u001b[A\n",
      "Processing fluds in https://kupus.ru/forum/18-kreditnye-karty/:  12%| | 6/50 [00\u001b[A\n",
      "Processing fluds in https://kupus.ru/forum/18-kreditnye-karty/:  14%|▏| 7/50 [00\u001b[A\n",
      "Processing fluds in https://kupus.ru/forum/18-kreditnye-karty/:  16%|▏| 8/50 [01\u001b[A\n",
      "Processing fluds in https://kupus.ru/forum/18-kreditnye-karty/:  18%|▏| 9/50 [01\u001b[A\n",
      "Processing fluds in https://kupus.ru/forum/18-kreditnye-karty/:  20%|▏| 10/50 [0\u001b[A\n",
      "Processing fluds in https://kupus.ru/forum/18-kreditnye-karty/:  22%|▏| 11/50 [0\u001b[A\n",
      "Processing fluds in https://kupus.ru/forum/18-kreditnye-karty/:  24%|▏| 12/50 [0\u001b[A\n",
      "Processing fluds in https://kupus.ru/forum/18-kreditnye-karty/:  26%|▎| 13/50 [0\u001b[A\n",
      "Processing fluds in https://kupus.ru/forum/18-kreditnye-karty/:  28%|▎| 14/50 [0\u001b[A\n",
      "Processing fluds in https://kupus.ru/forum/18-kreditnye-karty/:  30%|▎| 15/50 [0\u001b[A\n",
      "Processing fluds in https://kupus.ru/forum/18-kreditnye-karty/:  32%|▎| 16/50 [0\u001b[A\n",
      "Processing fluds in https://kupus.ru/forum/18-kreditnye-karty/:  34%|▎| 17/50 [0\u001b[A\n",
      "Processing fluds in https://kupus.ru/forum/18-kreditnye-karty/:  36%|▎| 18/50 [0\u001b[A\n",
      "Processing fluds in https://kupus.ru/forum/18-kreditnye-karty/:  38%|▍| 19/50 [0\u001b[A\n",
      "Processing fluds in https://kupus.ru/forum/18-kreditnye-karty/:  40%|▍| 20/50 [0\u001b[A\n",
      "Processing fluds in https://kupus.ru/forum/18-kreditnye-karty/:  42%|▍| 21/50 [0\u001b[A\n",
      "Processing fluds in https://kupus.ru/forum/18-kreditnye-karty/:  44%|▍| 22/50 [0\u001b[A\n",
      "Processing fluds in https://kupus.ru/forum/18-kreditnye-karty/:  46%|▍| 23/50 [0\u001b[A\n",
      "Processing fluds in https://kupus.ru/forum/18-kreditnye-karty/:  48%|▍| 24/50 [0\u001b[A\n",
      "Processing fluds in https://kupus.ru/forum/18-kreditnye-karty/:  50%|▌| 25/50 [0\u001b[A\n",
      "Processing fluds in https://kupus.ru/forum/18-kreditnye-karty/:  52%|▌| 26/50 [0\u001b[A\n",
      "Processing fluds in https://kupus.ru/forum/18-kreditnye-karty/:  54%|▌| 27/50 [0\u001b[A\n",
      "Processing fluds in https://kupus.ru/forum/18-kreditnye-karty/:  56%|▌| 28/50 [0\u001b[A\n",
      "Processing fluds in https://kupus.ru/forum/18-kreditnye-karty/:  58%|▌| 29/50 [0\u001b[A\n",
      "Processing fluds in https://kupus.ru/forum/18-kreditnye-karty/:  60%|▌| 30/50 [0\u001b[A\n",
      "Processing fluds in https://kupus.ru/forum/18-kreditnye-karty/:  62%|▌| 31/50 [0\u001b[A\n",
      "Processing fluds in https://kupus.ru/forum/18-kreditnye-karty/:  64%|▋| 32/50 [0\u001b[A\n",
      "Processing fluds in https://kupus.ru/forum/18-kreditnye-karty/:  66%|▋| 33/50 [0\u001b[A\n",
      "Processing fluds in https://kupus.ru/forum/18-kreditnye-karty/:  68%|▋| 34/50 [0\u001b[A\n",
      "Processing fluds in https://kupus.ru/forum/18-kreditnye-karty/:  70%|▋| 35/50 [0\u001b[A\n",
      "Processing fluds in https://kupus.ru/forum/18-kreditnye-karty/:  72%|▋| 36/50 [0\u001b[A\n",
      "Processing fluds in https://kupus.ru/forum/18-kreditnye-karty/:  74%|▋| 37/50 [0\u001b[A\n",
      "Processing fluds in https://kupus.ru/forum/18-kreditnye-karty/:  76%|▊| 38/50 [0\u001b[A\n",
      "Processing fluds in https://kupus.ru/forum/18-kreditnye-karty/:  78%|▊| 39/50 [0\u001b[A\n",
      "Processing fluds in https://kupus.ru/forum/18-kreditnye-karty/:  80%|▊| 40/50 [0\u001b[A\n",
      "Processing fluds in https://kupus.ru/forum/18-kreditnye-karty/:  82%|▊| 41/50 [0\u001b[A\n",
      "Processing fluds in https://kupus.ru/forum/18-kreditnye-karty/:  84%|▊| 42/50 [0\u001b[A\n",
      "Processing fluds in https://kupus.ru/forum/18-kreditnye-karty/:  86%|▊| 43/50 [0\u001b[A\n",
      "Processing fluds in https://kupus.ru/forum/18-kreditnye-karty/:  88%|▉| 44/50 [0\u001b[A\n",
      "Processing fluds in https://kupus.ru/forum/18-kreditnye-karty/:  90%|▉| 45/50 [0\u001b[A\n",
      "Processing fluds in https://kupus.ru/forum/18-kreditnye-karty/:  92%|▉| 46/50 [0\u001b[A\n",
      "Processing fluds in https://kupus.ru/forum/18-kreditnye-karty/:  94%|▉| 47/50 [0\u001b[A\n",
      "Processing fluds in https://kupus.ru/forum/18-kreditnye-karty/:  96%|▉| 48/50 [0\u001b[A\n",
      "Processing fluds in https://kupus.ru/forum/18-kreditnye-karty/:  98%|▉| 49/50 [0\u001b[A\n",
      "Processing fluds in https://kupus.ru/forum/18-kreditnye-karty/: 100%|█| 50/50 [0\u001b[A\n",
      "Processing topics:  17%|████▏                    | 1/6 [06:05<30:27, 365.41s/it]\u001b[A\n",
      "Processing fluds in https://kupus.ru/forum/19-debetovye-karty/:   0%| | 0/72 [00\u001b[A\n",
      "Processing fluds in https://kupus.ru/forum/19-debetovye-karty/:   1%| | 1/72 [00\u001b[A\n",
      "Processing fluds in https://kupus.ru/forum/19-debetovye-karty/:   3%| | 2/72 [00\u001b[A\n",
      "Processing fluds in https://kupus.ru/forum/19-debetovye-karty/:   4%| | 3/72 [00\u001b[A\n",
      "Processing fluds in https://kupus.ru/forum/19-debetovye-karty/:   6%| | 4/72 [00\u001b[A\n",
      "Processing fluds in https://kupus.ru/forum/19-debetovye-karty/:   7%| | 5/72 [01\u001b[A\n",
      "Processing fluds in https://kupus.ru/forum/19-debetovye-karty/:   8%| | 6/72 [01\u001b[A\n",
      "Processing fluds in https://kupus.ru/forum/19-debetovye-karty/:  10%| | 7/72 [01\u001b[A\n",
      "Processing fluds in https://kupus.ru/forum/19-debetovye-karty/:  11%| | 8/72 [01\u001b[A\n",
      "Processing fluds in https://kupus.ru/forum/19-debetovye-karty/:  12%|▏| 9/72 [01\u001b[A\n",
      "Processing fluds in https://kupus.ru/forum/19-debetovye-karty/:  14%|▏| 10/72 [0\u001b[A\n",
      "Processing fluds in https://kupus.ru/forum/19-debetovye-karty/:  15%|▏| 11/72 [0\u001b[A\n",
      "Processing fluds in https://kupus.ru/forum/19-debetovye-karty/:  17%|▏| 12/72 [0\u001b[A\n",
      "Processing fluds in https://kupus.ru/forum/19-debetovye-karty/:  18%|▏| 13/72 [0\u001b[A\n",
      "Processing fluds in https://kupus.ru/forum/19-debetovye-karty/:  19%|▏| 14/72 [0\u001b[A\n",
      "Processing fluds in https://kupus.ru/forum/19-debetovye-karty/:  21%|▏| 15/72 [0\u001b[A\n",
      "Processing fluds in https://kupus.ru/forum/19-debetovye-karty/:  22%|▏| 16/72 [0\u001b[A\n",
      "Processing fluds in https://kupus.ru/forum/19-debetovye-karty/:  24%|▏| 17/72 [0\u001b[A\n",
      "Processing fluds in https://kupus.ru/forum/19-debetovye-karty/:  25%|▎| 18/72 [0\u001b[A\n",
      "Processing fluds in https://kupus.ru/forum/19-debetovye-karty/:  26%|▎| 19/72 [0\u001b[A\n",
      "Processing fluds in https://kupus.ru/forum/19-debetovye-karty/:  28%|▎| 20/72 [0\u001b[A\n",
      "Processing fluds in https://kupus.ru/forum/19-debetovye-karty/:  29%|▎| 21/72 [0\u001b[A\n",
      "Processing fluds in https://kupus.ru/forum/19-debetovye-karty/:  31%|▎| 22/72 [0\u001b[A\n",
      "Processing fluds in https://kupus.ru/forum/19-debetovye-karty/:  32%|▎| 23/72 [0\u001b[A\n",
      "Processing fluds in https://kupus.ru/forum/19-debetovye-karty/:  33%|▎| 24/72 [0\u001b[A\n",
      "Processing fluds in https://kupus.ru/forum/19-debetovye-karty/:  35%|▎| 25/72 [0\u001b[A\n",
      "Processing fluds in https://kupus.ru/forum/19-debetovye-karty/:  36%|▎| 26/72 [0\u001b[A\n",
      "Processing fluds in https://kupus.ru/forum/19-debetovye-karty/:  38%|▍| 27/72 [0\u001b[A\n",
      "Processing fluds in https://kupus.ru/forum/19-debetovye-karty/:  39%|▍| 28/72 [0\u001b[A\n",
      "Processing fluds in https://kupus.ru/forum/19-debetovye-karty/:  40%|▍| 29/72 [0\u001b[A\n",
      "Processing fluds in https://kupus.ru/forum/19-debetovye-karty/:  42%|▍| 30/72 [0\u001b[A\n",
      "Processing fluds in https://kupus.ru/forum/19-debetovye-karty/:  43%|▍| 31/72 [0\u001b[A\n",
      "Processing fluds in https://kupus.ru/forum/19-debetovye-karty/:  44%|▍| 32/72 [0\u001b[A\n",
      "Processing fluds in https://kupus.ru/forum/19-debetovye-karty/:  46%|▍| 33/72 [0\u001b[A\n",
      "Processing fluds in https://kupus.ru/forum/19-debetovye-karty/:  47%|▍| 34/72 [0\u001b[A\n",
      "Processing fluds in https://kupus.ru/forum/19-debetovye-karty/:  49%|▍| 35/72 [0\u001b[A\n",
      "Processing fluds in https://kupus.ru/forum/19-debetovye-karty/:  50%|▌| 36/72 [0\u001b[A\n",
      "Processing fluds in https://kupus.ru/forum/19-debetovye-karty/:  51%|▌| 37/72 [0\u001b[A\n",
      "Processing fluds in https://kupus.ru/forum/19-debetovye-karty/:  53%|▌| 38/72 [0\u001b[A\n",
      "Processing fluds in https://kupus.ru/forum/19-debetovye-karty/:  54%|▌| 39/72 [0\u001b[A\n",
      "Processing fluds in https://kupus.ru/forum/19-debetovye-karty/:  56%|▌| 40/72 [0\u001b[A\n",
      "Processing fluds in https://kupus.ru/forum/19-debetovye-karty/:  57%|▌| 41/72 [0\u001b[A\n",
      "Processing fluds in https://kupus.ru/forum/19-debetovye-karty/:  58%|▌| 42/72 [0\u001b[A\n",
      "Processing fluds in https://kupus.ru/forum/19-debetovye-karty/:  60%|▌| 43/72 [0\u001b[A\n",
      "Processing fluds in https://kupus.ru/forum/19-debetovye-karty/:  61%|▌| 44/72 [0\u001b[A\n",
      "Processing fluds in https://kupus.ru/forum/19-debetovye-karty/:  62%|▋| 45/72 [0\u001b[A\n",
      "Processing fluds in https://kupus.ru/forum/19-debetovye-karty/:  64%|▋| 46/72 [0\u001b[A\n",
      "Processing fluds in https://kupus.ru/forum/19-debetovye-karty/:  65%|▋| 47/72 [0\u001b[A\n",
      "Processing fluds in https://kupus.ru/forum/19-debetovye-karty/:  67%|▋| 48/72 [0\u001b[A\n",
      "Processing fluds in https://kupus.ru/forum/19-debetovye-karty/:  68%|▋| 49/72 [0\u001b[A\n",
      "Processing fluds in https://kupus.ru/forum/19-debetovye-karty/:  69%|▋| 50/72 [0\u001b[A\n",
      "Processing fluds in https://kupus.ru/forum/19-debetovye-karty/:  71%|▋| 51/72 [0\u001b[A\n",
      "Processing fluds in https://kupus.ru/forum/19-debetovye-karty/:  72%|▋| 52/72 [0\u001b[A\n",
      "Processing fluds in https://kupus.ru/forum/19-debetovye-karty/:  74%|▋| 53/72 [0\u001b[A\n",
      "Processing fluds in https://kupus.ru/forum/19-debetovye-karty/:  75%|▊| 54/72 [0\u001b[A\n",
      "Processing fluds in https://kupus.ru/forum/19-debetovye-karty/:  76%|▊| 55/72 [0\u001b[A\n",
      "Processing fluds in https://kupus.ru/forum/19-debetovye-karty/:  78%|▊| 56/72 [0\u001b[A\n",
      "Processing fluds in https://kupus.ru/forum/19-debetovye-karty/:  79%|▊| 57/72 [0\u001b[A\n",
      "Processing fluds in https://kupus.ru/forum/19-debetovye-karty/:  81%|▊| 58/72 [0\u001b[A\n",
      "Processing fluds in https://kupus.ru/forum/19-debetovye-karty/:  82%|▊| 59/72 [0\u001b[A\n",
      "Processing fluds in https://kupus.ru/forum/19-debetovye-karty/:  83%|▊| 60/72 [0\u001b[A\n",
      "Processing fluds in https://kupus.ru/forum/19-debetovye-karty/:  85%|▊| 61/72 [0\u001b[A\n",
      "Processing fluds in https://kupus.ru/forum/19-debetovye-karty/:  86%|▊| 62/72 [0\u001b[A\n",
      "Processing fluds in https://kupus.ru/forum/19-debetovye-karty/:  88%|▉| 63/72 [0\u001b[A\n",
      "Processing fluds in https://kupus.ru/forum/19-debetovye-karty/:  89%|▉| 64/72 [0\u001b[A\n",
      "Processing fluds in https://kupus.ru/forum/19-debetovye-karty/:  90%|▉| 65/72 [0\u001b[A\n",
      "Processing fluds in https://kupus.ru/forum/19-debetovye-karty/:  92%|▉| 66/72 [1\u001b[A\n",
      "Processing fluds in https://kupus.ru/forum/19-debetovye-karty/:  93%|▉| 67/72 [1\u001b[A\n",
      "Processing fluds in https://kupus.ru/forum/19-debetovye-karty/:  94%|▉| 68/72 [1\u001b[A\n",
      "Processing fluds in https://kupus.ru/forum/19-debetovye-karty/:  96%|▉| 69/72 [1\u001b[A\n",
      "Processing fluds in https://kupus.ru/forum/19-debetovye-karty/:  97%|▉| 70/72 [1\u001b[A\n",
      "Processing fluds in https://kupus.ru/forum/19-debetovye-karty/:  99%|▉| 71/72 [1\u001b[A\n",
      "Processing fluds in https://kupus.ru/forum/19-debetovye-karty/: 100%|█| 72/72 [1\u001b[A\n",
      "Processing topics:  33%|████████▎                | 2/6 [16:51<35:21, 530.37s/it]\u001b[A\n",
      "Processing fluds in https://kupus.ru/forum/22-mikrozajmy/:   0%| | 0/6 [00:00<?,\u001b[A\n",
      "Processing fluds in https://kupus.ru/forum/22-mikrozajmy/:  17%|▏| 1/6 [00:06<00\u001b[A\n",
      "Processing fluds in https://kupus.ru/forum/22-mikrozajmy/:  33%|▎| 2/6 [00:20<00\u001b[A\n",
      "Processing fluds in https://kupus.ru/forum/22-mikrozajmy/:  50%|▌| 3/6 [00:26<00\u001b[A\n",
      "Processing fluds in https://kupus.ru/forum/22-mikrozajmy/:  67%|▋| 4/6 [00:33<00\u001b[A\n",
      "Processing fluds in https://kupus.ru/forum/22-mikrozajmy/:  83%|▊| 5/6 [00:40<00\u001b[A\n",
      "Processing fluds in https://kupus.ru/forum/22-mikrozajmy/: 100%|█| 6/6 [00:45<00\u001b[A\n",
      "Processing topics:  50%|████████████▌            | 3/6 [17:37<15:27, 309.19s/it]\u001b[A\n",
      "Processing fluds in https://kupus.ru/forum/17-kredity/:   0%| | 0/20 [00:00<?, ?\u001b[A\n",
      "Processing fluds in https://kupus.ru/forum/17-kredity/:   5%| | 1/20 [00:09<03:0\u001b[A\n",
      "Processing fluds in https://kupus.ru/forum/17-kredity/:  10%| | 2/20 [00:20<03:1\u001b[A\n",
      "Processing fluds in https://kupus.ru/forum/17-kredity/:  15%|▏| 3/20 [00:31<02:5\u001b[A\n",
      "Processing fluds in https://kupus.ru/forum/17-kredity/:  20%|▏| 4/20 [00:37<02:2\u001b[A\n",
      "Processing fluds in https://kupus.ru/forum/17-kredity/:  25%|▎| 5/20 [00:43<01:5\u001b[A\n",
      "Processing fluds in https://kupus.ru/forum/17-kredity/:  30%|▎| 6/20 [00:49<01:3\u001b[A\n",
      "Processing fluds in https://kupus.ru/forum/17-kredity/:  35%|▎| 7/20 [00:54<01:2\u001b[A\n",
      "Processing fluds in https://kupus.ru/forum/17-kredity/:  40%|▍| 8/20 [01:00<01:1\u001b[A\n",
      "Processing fluds in https://kupus.ru/forum/17-kredity/:  45%|▍| 9/20 [01:08<01:1\u001b[A\n",
      "Processing fluds in https://kupus.ru/forum/17-kredity/:  50%|▌| 10/20 [01:15<01:\u001b[A\n",
      "Processing fluds in https://kupus.ru/forum/17-kredity/:  55%|▌| 11/20 [01:22<01:\u001b[A\n",
      "Processing fluds in https://kupus.ru/forum/17-kredity/:  60%|▌| 12/20 [01:28<00:\u001b[A\n",
      "Processing fluds in https://kupus.ru/forum/17-kredity/:  65%|▋| 13/20 [01:34<00:\u001b[A\n",
      "Processing fluds in https://kupus.ru/forum/17-kredity/:  70%|▋| 14/20 [01:41<00:\u001b[A\n",
      "Processing fluds in https://kupus.ru/forum/17-kredity/:  75%|▊| 15/20 [01:48<00:\u001b[A\n",
      "Processing fluds in https://kupus.ru/forum/17-kredity/:  80%|▊| 16/20 [01:54<00:\u001b[A\n",
      "Processing fluds in https://kupus.ru/forum/17-kredity/:  85%|▊| 17/20 [02:00<00:\u001b[A\n",
      "Processing fluds in https://kupus.ru/forum/17-kredity/:  90%|▉| 18/20 [02:09<00:\u001b[A\n",
      "Processing fluds in https://kupus.ru/forum/17-kredity/:  95%|▉| 19/20 [02:14<00:\u001b[A\n",
      "Processing fluds in https://kupus.ru/forum/17-kredity/: 100%|█| 20/20 [02:20<00:\u001b[A\n",
      "Processing topics:  67%|████████████████▋        | 4/6 [19:57<08:04, 242.43s/it]\u001b[A\n",
      "Processing fluds in https://kupus.ru/forum/102-sekrety-i-lajfhaki/:   0%| | 0/4 \u001b[A\n",
      "Processing fluds in https://kupus.ru/forum/102-sekrety-i-lajfhaki/:  25%|▎| 1/4 \u001b[A\n",
      "Processing fluds in https://kupus.ru/forum/102-sekrety-i-lajfhaki/:  50%|▌| 2/4 \u001b[A\n",
      "Processing fluds in https://kupus.ru/forum/102-sekrety-i-lajfhaki/:  75%|▊| 3/4 \u001b[A\n",
      "Processing fluds in https://kupus.ru/forum/102-sekrety-i-lajfhaki/: 100%|█| 4/4 \u001b[A\n",
      "Processing topics:  83%|████████████████████▊    | 5/6 [20:31<02:47, 167.31s/it]\u001b[A\n",
      "Processing fluds in https://kupus.ru/forum/57-moshennicheskie-tranzakcii/:   0%|\u001b[A\n",
      "Processing fluds in https://kupus.ru/forum/57-moshennicheskie-tranzakcii/:  17%|\u001b[A\n",
      "Processing fluds in https://kupus.ru/forum/57-moshennicheskie-tranzakcii/:  33%|\u001b[A\n",
      "Processing fluds in https://kupus.ru/forum/57-moshennicheskie-tranzakcii/:  50%|\u001b[A\n",
      "Processing fluds in https://kupus.ru/forum/57-moshennicheskie-tranzakcii/:  67%|\u001b[A\n",
      "Processing fluds in https://kupus.ru/forum/57-moshennicheskie-tranzakcii/:  83%|\u001b[A\n",
      "Processing fluds in https://kupus.ru/forum/57-moshennicheskie-tranzakcii/: 100%|\u001b[A\n",
      "Processing topics: 100%|█████████████████████████| 6/6 [21:20<00:00, 213.34s/it]\u001b[A\n"
     ]
    }
   ],
   "source": [
    "breakpoint = 0\n",
    "\n",
    "for topic in tqdm.tqdm(list(parsed_topics.keys())[breakpoint:], desc='Processing topics'):\n",
    "    try:\n",
    "        comments = []\n",
    "        for flud in tqdm.tqdm(parsed_topics[topic], leave=False, desc=f'Processing fluds in {topic}'):\n",
    "            flud_link = parsed_topics[topic][flud][0]\n",
    "            comments.append((flud_link, kupus_parser.parse_comments(flud_link, deep=10)))\n",
    "        with open(os.path.join(DATA_DIR, f'kupus_comments/kupus_comments_{breakpoint}.json'), 'w') as file:\n",
    "            file.write(json.dumps({topic: comments}))\n",
    "        breakpoint += 1\n",
    "    except Exception:\n",
    "        print(breakpoint)\n",
    "        breakpoint += 1"
   ]
  },
  {
   "cell_type": "markdown",
   "id": "6829bd00-87cd-4bdc-8ec5-6f628eada2d5",
   "metadata": {},
   "source": [
    "# ✅Parse Hranidengi.com"
   ]
  },
  {
   "cell_type": "code",
   "execution_count": 3,
   "id": "c407d0c9-d11c-4c8d-b1b7-cee2aedb750d",
   "metadata": {},
   "outputs": [],
   "source": [
    "with open('parser/config/hranidengi.json', 'r') as file:\n",
    "    hranidengi_config = json.loads(file.read())\n",
    "\n",
    "hranidengi_parser = online_parser.OnlineParser(\n",
    "    config=hranidengi_config\n",
    ")\n",
    "\n",
    "hranidengi_parse_topics = hranidengi_config['header_links']"
   ]
  },
  {
   "cell_type": "code",
   "execution_count": 4,
   "id": "2530778a-c687-4877-880d-0623971f499f",
   "metadata": {},
   "outputs": [
    {
     "name": "stderr",
     "output_type": "stream",
     "text": [
      "100%|█████████████████████████████████████████████| 8/8 [00:03<00:00,  2.34it/s]\n"
     ]
    }
   ],
   "source": [
    "parsed_topics = {}\n",
    "\n",
    "for link in tqdm.tqdm(hranidengi_parse_topics):\n",
    "    parsed_topics[link] = hranidengi_parser.parse_headers(link, deep=1)"
   ]
  },
  {
   "cell_type": "code",
   "execution_count": 5,
   "id": "c9b01f9a-c8dd-4bcf-ba0e-719a201dad32",
   "metadata": {},
   "outputs": [],
   "source": [
    "with open(os.path.join(DATA_DIR, 'hranidengi_headers.json'), 'w') as file:\n",
    "    file.write(json.dumps(parsed_topics))"
   ]
  },
  {
   "cell_type": "code",
   "execution_count": 4,
   "id": "4016e145-bc21-4ce3-9992-4b3cd4574c09",
   "metadata": {},
   "outputs": [
    {
     "name": "stdout",
     "output_type": "stream",
     "text": [
      "CPU times: user 23.2 s, sys: 153 ms, total: 23.3 s\n",
      "Wall time: 2min 1s\n"
     ]
    }
   ],
   "source": [
    "%%time\n",
    "\n",
    "test = hranidengi_parser.parse_comments('https://hranidengi.com/threads/blokirovki-v-gazprombanke.1180/', deep=200)"
   ]
  },
  {
   "cell_type": "code",
   "execution_count": 5,
   "id": "8eb3cbe5-2db9-456d-baf9-00d67336184c",
   "metadata": {},
   "outputs": [
    {
     "data": {
      "text/plain": [
       "3112"
      ]
     },
     "execution_count": 5,
     "metadata": {},
     "output_type": "execute_result"
    }
   ],
   "source": [
    "len(test)"
   ]
  },
  {
   "cell_type": "code",
   "execution_count": 6,
   "id": "2fe01b81-5d99-462b-9bc2-2c72b79471f1",
   "metadata": {},
   "outputs": [
    {
     "data": {
      "text/plain": [
       "'https://hranidengi.com/forums/konfliktnye-situacii'"
      ]
     },
     "execution_count": 6,
     "metadata": {},
     "output_type": "execute_result"
    }
   ],
   "source": [
    "list(parsed_topics.keys())[0]"
   ]
  },
  {
   "cell_type": "code",
   "execution_count": 6,
   "id": "49c665b8-6543-43bd-8714-15e5da042f54",
   "metadata": {},
   "outputs": [],
   "source": [
    "with open(os.path.join(DATA_DIR, 'hranidengi_headers.json'), 'r') as file:\n",
    "    parsed_topics = dict(json.loads(file.read()))"
   ]
  },
  {
   "cell_type": "code",
   "execution_count": 7,
   "id": "86dc6fa8-38ee-488c-9136-35215104add0",
   "metadata": {
    "scrolled": true
   },
   "outputs": [
    {
     "data": {
      "text/plain": [
       "['https://hranidengi.com/forums/konfliktnye-situacii',\n",
       " 'https://hranidengi.com/forums/kreditnye-karty',\n",
       " 'https://hranidengi.com/forums/debetovye-karty',\n",
       " 'https://hranidengi.com/forums/kredity',\n",
       " 'https://hranidengi.com/forums/kreditnaja-istorija',\n",
       " 'https://hranidengi.com/forums/juridicheskaja-konsultacija',\n",
       " 'https://hranidengi.com/forums/moshennicheskie-tranzakcii',\n",
       " 'https://hranidengi.com/forums/sekrety-i-lajfxaki.34']"
      ]
     },
     "execution_count": 7,
     "metadata": {},
     "output_type": "execute_result"
    }
   ],
   "source": [
    "list(parsed_topics.keys())"
   ]
  },
  {
   "cell_type": "code",
   "execution_count": 8,
   "id": "398f86c6-ba3a-4be4-9cc5-cc5ee3a9e870",
   "metadata": {},
   "outputs": [
    {
     "data": {
      "text/plain": [
       "['Отказ в выплате субсидии на ЖКХ',\n",
       " 'Представление интересов третьего лица по доверенности',\n",
       " 'Передача банковской карты другому лицу для покупок',\n",
       " 'Электронный доступ к делу на kad.arbitr.ru',\n",
       " 'Иск в суд на необоснованное обогащение. Вопросы.',\n",
       " 'Закон о защите прав потребителя.',\n",
       " 'Получение водительского удостоверения',\n",
       " 'Изменение количества зарегистрированных в квартире',\n",
       " 'Пенсия по потере кормильца',\n",
       " 'Личные валютные накопления',\n",
       " 'Судебная повестка',\n",
       " 'Вопросы наследства',\n",
       " '\"Кредит\" ушедшего и страховка.',\n",
       " 'Подтверждающие документы для возможных взаимодействий с Банками',\n",
       " 'Есть ли возможность перевода активов с брокерского счета (ИИС)',\n",
       " 'Телефонный террор ООО ПКО \"Авангард\" - как наказать?',\n",
       " 'Арест и блокировка банковских счетов судебными приставами',\n",
       " 'Не могу получить выигрыш в лотерее \"Русское лото\"',\n",
       " 'Делимся опытом общения с фин.упом',\n",
       " 'Признание мошеннического договора МТС банка недействительным']"
      ]
     },
     "execution_count": 8,
     "metadata": {},
     "output_type": "execute_result"
    }
   ],
   "source": [
    "list(parsed_topics['https://hranidengi.com/forums/juridicheskaja-konsultacija'].keys())"
   ]
  },
  {
   "cell_type": "code",
   "execution_count": 10,
   "id": "57c8bcb7-45c5-4605-b517-5fbcc6c80a92",
   "metadata": {},
   "outputs": [
    {
     "name": "stdout",
     "output_type": "stream",
     "text": [
      "CPU times: user 15min 58s, sys: 5.81 s, total: 16min 3s\n",
      "Wall time: 1h 16min 11s\n"
     ]
    }
   ],
   "source": [
    "%%time\n",
    "\n",
    "comments = []\n",
    "topic = 'https://hranidengi.com/forums/juridicheskaja-konsultacija'\n",
    "topic_desc = 'juridicheskaja_konsultacija'\n",
    "topics = parsed_topics[topic]\n",
    "fluds = list(parsed_topics[topic].keys())\n",
    "flud_size = len(fluds)\n",
    "flud = 0\n",
    "\n",
    "# for flud in tqdm.tqdm(parsed_topics[topic], leave=False, desc=f'Processing fluds in {topic}'):\n",
    "while flud < flud_size:\n",
    "    try:\n",
    "        filename = f'hranidengi_comments/hranidengi_comments_{topic_desc}_{flud}.json'\n",
    "        if not filename in os.listdir(os.path.join(DATA_DIR, 'hranidengi_comments')):    \n",
    "            flud_link = topics[fluds[flud]][0]\n",
    "            parsed = (flud_link, hranidengi_parser.parse_comments(flud_link, deep=200, verbose=True))\n",
    "            if parsed not in comments:\n",
    "                comments.append(parsed)\n",
    "            with open(os.path.join(DATA_DIR, filename), 'w') as file:\n",
    "                file.write(json.dumps({topic: comments}))\n",
    "            comments = []\n",
    "        flud += 1\n",
    "    except ConnectionError:\n",
    "        continue"
   ]
  }
 ],
 "metadata": {
  "kernelspec": {
   "display_name": "main-venv",
   "language": "python",
   "name": "main-venv"
  },
  "language_info": {
   "codemirror_mode": {
    "name": "ipython",
    "version": 3
   },
   "file_extension": ".py",
   "mimetype": "text/x-python",
   "name": "python",
   "nbconvert_exporter": "python",
   "pygments_lexer": "ipython3",
   "version": "3.10.12"
  }
 },
 "nbformat": 4,
 "nbformat_minor": 5
}
